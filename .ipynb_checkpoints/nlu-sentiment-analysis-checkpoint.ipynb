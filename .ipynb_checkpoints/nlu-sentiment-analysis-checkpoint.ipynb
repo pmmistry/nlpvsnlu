{
 "cells": [
  {
   "cell_type": "markdown",
   "metadata": {},
   "source": [
    "# Python and Analytics workshop - Using Natural Language Understanding and Sentiment"
   ]
  },
  {
   "cell_type": "markdown",
   "metadata": {},
   "source": [
    "In this portion of the workshop, we'll use an instance of [Watson Natural Language Understanding](https://cloud.ibm.com/catalog/services/natural-language-understanding) to gather insights into data.\n",
    "\n",
    "Watson Natural Language Understanding is a cloud native product that uses deep learning to extract metadata from text such as entities, keywords, categories, sentiment, emotion, relations, and syntax.\n",
    "There is a rich [API](https://cloud.ibm.com/apidocs/natural-language-understanding?code=python) that we will use along with the [Watson Python SDK](https://github.com/watson-developer-cloud/python-sdk) to analyze our data."
   ]
  },
  {
   "cell_type": "markdown",
   "metadata": {},
   "source": [
    "## Contents\n",
    "\n",
    "- [1.0 Setup - install modules](#setup)\n",
    "- [2.0 Test NLU APIs](#test)\n",
    "- [3.0 Import Data and Setup Pandas Dataframe ](#pandas)\n",
    "- [4.0 Clean and Prepare data for NLU scoring](#clean)\n",
    "- [5.0 Analyze response from NLU ](#analyze)\n",
    "- [6.0 Get sentiment by row](#sentiment-row)\n",
    "- [7.0 Graph with matplotlib](#graph)\n",
    "\n"
   ]
  },
  {
   "cell_type": "markdown",
   "metadata": {},
   "source": [
    "## 1.0 Setup - Install Modules<a name=\"setup\"></a>"
   ]
  },
  {
   "cell_type": "markdown",
   "metadata": {},
   "source": [
    "We use the [Watson Python SDK](https://github.com/watson-developer-cloud/python-sdk) to access the [NLU APIs](https://cloud.ibm.com/apidocs/natural-language-understanding?code=python) programatically."
   ]
  },
  {
   "cell_type": "code",
   "execution_count": 1,
   "metadata": {
    "scrolled": true
   },
   "outputs": [
    {
     "name": "stdout",
     "output_type": "stream",
     "text": [
      "Requirement already up-to-date: numpy==1.16.4 in /usr/local/lib/python3.7/site-packages (1.16.4)\n",
      "\u001b[33mWARNING: You are using pip version 20.2.2; however, version 21.0.1 is available.\n",
      "You should consider upgrading via the '/usr/local/opt/python/bin/python3.7 -m pip install --upgrade pip' command.\u001b[0m\n",
      "Requirement already up-to-date: pandas==1.0.5 in /usr/local/lib/python3.7/site-packages (1.0.5)\n",
      "Requirement already satisfied, skipping upgrade: pytz>=2017.2 in /usr/local/lib/python3.7/site-packages (from pandas==1.0.5) (2020.1)\n",
      "Requirement already satisfied, skipping upgrade: python-dateutil>=2.6.1 in /usr/local/lib/python3.7/site-packages (from pandas==1.0.5) (2.8.1)\n",
      "Requirement already satisfied, skipping upgrade: numpy>=1.13.3 in /usr/local/lib/python3.7/site-packages (from pandas==1.0.5) (1.16.4)\n",
      "Requirement already satisfied, skipping upgrade: six>=1.5 in /usr/local/lib/python3.7/site-packages (from python-dateutil>=2.6.1->pandas==1.0.5) (1.14.0)\n",
      "\u001b[33mWARNING: You are using pip version 20.2.2; however, version 21.0.1 is available.\n",
      "You should consider upgrading via the '/usr/local/opt/python/bin/python3.7 -m pip install --upgrade pip' command.\u001b[0m\n",
      "Requirement already up-to-date: ibm-watson==4.7.1 in /usr/local/lib/python3.7/site-packages (4.7.1)\n",
      "Requirement already satisfied, skipping upgrade: requests<3.0,>=2.0 in /usr/local/lib/python3.7/site-packages (from ibm-watson==4.7.1) (2.23.0)\n",
      "Requirement already satisfied, skipping upgrade: python-dateutil>=2.5.3 in /usr/local/lib/python3.7/site-packages (from ibm-watson==4.7.1) (2.8.1)\n",
      "Requirement already satisfied, skipping upgrade: websocket-client==0.48.0 in /usr/local/lib/python3.7/site-packages (from ibm-watson==4.7.1) (0.48.0)\n",
      "Requirement already satisfied, skipping upgrade: ibm-cloud-sdk-core==1.7.3 in /usr/local/lib/python3.7/site-packages (from ibm-watson==4.7.1) (1.7.3)\n",
      "Requirement already satisfied, skipping upgrade: urllib3!=1.25.0,!=1.25.1,<1.26,>=1.21.1 in /usr/local/lib/python3.7/site-packages (from requests<3.0,>=2.0->ibm-watson==4.7.1) (1.25.9)\n",
      "Requirement already satisfied, skipping upgrade: chardet<4,>=3.0.2 in /usr/local/lib/python3.7/site-packages (from requests<3.0,>=2.0->ibm-watson==4.7.1) (3.0.4)\n",
      "Requirement already satisfied, skipping upgrade: idna<3,>=2.5 in /usr/local/lib/python3.7/site-packages (from requests<3.0,>=2.0->ibm-watson==4.7.1) (2.9)\n",
      "Requirement already satisfied, skipping upgrade: certifi>=2017.4.17 in /usr/local/lib/python3.7/site-packages (from requests<3.0,>=2.0->ibm-watson==4.7.1) (2020.4.5.1)\n",
      "Requirement already satisfied, skipping upgrade: six>=1.5 in /usr/local/lib/python3.7/site-packages (from python-dateutil>=2.5.3->ibm-watson==4.7.1) (1.14.0)\n",
      "Requirement already satisfied, skipping upgrade: PyJWT>=1.7.1 in /usr/local/lib/python3.7/site-packages (from ibm-cloud-sdk-core==1.7.3->ibm-watson==4.7.1) (1.7.1)\n",
      "\u001b[33mWARNING: You are using pip version 20.2.2; however, version 21.0.1 is available.\n",
      "You should consider upgrading via the '/usr/local/opt/python/bin/python3.7 -m pip install --upgrade pip' command.\u001b[0m\n"
     ]
    }
   ],
   "source": [
    "!pip install --upgrade numpy==1.16.4\n",
    "!pip install --upgrade pandas==1.0.5\n",
    "!pip install --upgrade ibm-watson==4.7.1"
   ]
  },
  {
   "cell_type": "markdown",
   "metadata": {},
   "source": [
    "### Important: Restart the Jupyter kernel now\n",
    "Restart the kernal by going to the `Kernel` tab above and choosing `Restart`."
   ]
  },
  {
   "cell_type": "markdown",
   "metadata": {},
   "source": [
    "Import python modules from the Watson Python SDKs"
   ]
  },
  {
   "cell_type": "code",
   "execution_count": 2,
   "metadata": {},
   "outputs": [],
   "source": [
    "import json\n",
    "from ibm_watson import NaturalLanguageUnderstandingV1\n",
    "from ibm_cloud_sdk_core.authenticators import IAMAuthenticator\n",
    "from ibm_watson.natural_language_understanding_v1 import Features,CategoriesOptions,EmotionOptions,KeywordsOptions"
   ]
  },
  {
   "cell_type": "markdown",
   "metadata": {},
   "source": [
    "### 1.1 Add NLU credentials\n",
    "Get the [IAM Authentication Key](https://cloud.ibm.com/apidocs/natural-language-understanding?code=python#authentication) and [Service URL](https://cloud.ibm.com/apidocs/natural-language-understanding?code=python#service-endpoint) that you obtained when you [Created a Watson NLU instance](https://github.ibm.com/IBMDeveloper/python-and-analytics/tree/addNLU/workshop/natural-language-understanding#create-a-watson-nlu-instance)."
   ]
  },
  {
   "cell_type": "markdown",
   "metadata": {},
   "source": [
    "Add your [IAM Authentication Key](https://cloud.ibm.com/apidocs/natural-language-understanding?code=python#authentication) below."
   ]
  },
  {
   "cell_type": "code",
   "execution_count": 3,
   "metadata": {},
   "outputs": [],
   "source": [
    "IAM_KEY = ''"
   ]
  },
  {
   "cell_type": "markdown",
   "metadata": {},
   "source": [
    "Add your [NLU Service URL](https://cloud.ibm.com/apidocs/natural-language-understanding?code=python#service-endpoint) below"
   ]
  },
  {
   "cell_type": "code",
   "execution_count": 4,
   "metadata": {},
   "outputs": [],
   "source": [
    "SERVICE_URL = ''"
   ]
  },
  {
   "cell_type": "markdown",
   "metadata": {},
   "source": [
    "## 2.0 Test NLU APIs <a name=\"test\"></a>\n",
    "Run a quick check to make sure everything is working. We'll use a [basic web page](https://www.ibm.com) to see how Watson Natural Language Understanding can extract categories when given a URL. [This example](https://cloud.ibm.com/apidocs/natural-language-understanding?code=python#categories) comes from the Watson NLU documentation."
   ]
  },
  {
   "cell_type": "code",
   "execution_count": 7,
   "metadata": {},
   "outputs": [
    {
     "name": "stdout",
     "output_type": "stream",
     "text": [
      "{\n",
      "  \"usage\": {\n",
      "    \"text_units\": 1,\n",
      "    \"text_characters\": 1772,\n",
      "    \"features\": 1\n",
      "  },\n",
      "  \"retrieved_url\": \"https://womenintechsummit.net/\",\n",
      "  \"language\": \"en\",\n",
      "  \"categories\": [\n",
      "    {\n",
      "      \"score\": 0.895921,\n",
      "      \"label\": \"/technology and computing/tech news\"\n",
      "    },\n",
      "    {\n",
      "      \"score\": 0.855429,\n",
      "      \"label\": \"/technology and computing/computer reviews\"\n",
      "    },\n",
      "    {\n",
      "      \"score\": 0.820702,\n",
      "      \"label\": \"/technology and computing/internet technology\"\n",
      "    }\n",
      "  ]\n",
      "}\n"
     ]
    }
   ],
   "source": [
    "authenticator = IAMAuthenticator(IAM_KEY)\n",
    "natural_language_understanding = NaturalLanguageUnderstandingV1(version='2020-08-01',authenticator=authenticator)\n",
    "\n",
    "natural_language_understanding.set_service_url(SERVICE_URL)\n",
    "\n",
    "response = natural_language_understanding.analyze(\n",
    "    url='https://womenintechsummit.net/',\n",
    "    features=Features(categories=CategoriesOptions(limit=3))).get_result()\n",
    "\n",
    "print(json.dumps(response, indent=2))"
   ]
  },
  {
   "cell_type": "markdown",
   "metadata": {},
   "source": [
    "## 3.0 Import Data and Setup Pandas Dataframe <a name=\"pandas\"></a>"
   ]
  },
  {
   "cell_type": "markdown",
   "metadata": {},
   "source": [
    "Read [cfpciti.csv](https://raw.githubusercontent.com/IBM/python-and-analytics/master/data/cfpbciti.csv) which contains data from the Consumer Credit Bureau for consumer complaints."
   ]
  },
  {
   "cell_type": "code",
   "execution_count": 8,
   "metadata": {},
   "outputs": [
    {
     "data": {
      "text/html": [
       "<div>\n",
       "<style scoped>\n",
       "    .dataframe tbody tr th:only-of-type {\n",
       "        vertical-align: middle;\n",
       "    }\n",
       "\n",
       "    .dataframe tbody tr th {\n",
       "        vertical-align: top;\n",
       "    }\n",
       "\n",
       "    .dataframe thead th {\n",
       "        text-align: right;\n",
       "    }\n",
       "</style>\n",
       "<table border=\"1\" class=\"dataframe\">\n",
       "  <thead>\n",
       "    <tr style=\"text-align: right;\">\n",
       "      <th></th>\n",
       "      <th>Date received</th>\n",
       "      <th>Product</th>\n",
       "      <th>Sub-product</th>\n",
       "      <th>Issue</th>\n",
       "      <th>Sub-issue</th>\n",
       "      <th>Consumer complaint narrative</th>\n",
       "      <th>Company public response</th>\n",
       "      <th>Company</th>\n",
       "      <th>State</th>\n",
       "      <th>ZIP code</th>\n",
       "      <th>Tags</th>\n",
       "      <th>Consumer consent provided?</th>\n",
       "      <th>Submitted via</th>\n",
       "      <th>Date sent to company</th>\n",
       "      <th>Company response to consumer</th>\n",
       "      <th>Timely response?</th>\n",
       "      <th>Consumer disputed?</th>\n",
       "      <th>Complaint ID</th>\n",
       "    </tr>\n",
       "  </thead>\n",
       "  <tbody>\n",
       "    <tr>\n",
       "      <th>0</th>\n",
       "      <td>01/24/20</td>\n",
       "      <td>Credit card or prepaid card</td>\n",
       "      <td>General-purpose credit card or charge card</td>\n",
       "      <td>Problem with a purchase shown on your statement</td>\n",
       "      <td>Card was charged for something you did not pur...</td>\n",
       "      <td>NaN</td>\n",
       "      <td>Company has responded to the consumer and the ...</td>\n",
       "      <td>CITIBANK, N.A.</td>\n",
       "      <td>NJ</td>\n",
       "      <td>07302</td>\n",
       "      <td>None</td>\n",
       "      <td>Consent not provided</td>\n",
       "      <td>Web</td>\n",
       "      <td>01/24/20</td>\n",
       "      <td>Closed with monetary relief</td>\n",
       "      <td>Yes</td>\n",
       "      <td>NaN</td>\n",
       "      <td>3508199</td>\n",
       "    </tr>\n",
       "    <tr>\n",
       "      <th>1</th>\n",
       "      <td>02/12/20</td>\n",
       "      <td>Credit card or prepaid card</td>\n",
       "      <td>General-purpose credit card or charge card</td>\n",
       "      <td>Getting a credit card</td>\n",
       "      <td>Delay in processing application</td>\n",
       "      <td>NaN</td>\n",
       "      <td>Company has responded to the consumer and the ...</td>\n",
       "      <td>CITIBANK, N.A.</td>\n",
       "      <td>IL</td>\n",
       "      <td>600XX</td>\n",
       "      <td>None</td>\n",
       "      <td>Consent not provided</td>\n",
       "      <td>Web</td>\n",
       "      <td>02/12/20</td>\n",
       "      <td>Closed with monetary relief</td>\n",
       "      <td>Yes</td>\n",
       "      <td>NaN</td>\n",
       "      <td>3529728</td>\n",
       "    </tr>\n",
       "    <tr>\n",
       "      <th>2</th>\n",
       "      <td>05/21/20</td>\n",
       "      <td>Credit card or prepaid card</td>\n",
       "      <td>Store credit card</td>\n",
       "      <td>Problem with a purchase shown on your statement</td>\n",
       "      <td>Credit card company isn't resolving a dispute ...</td>\n",
       "      <td>NaN</td>\n",
       "      <td>Company has responded to the consumer and the ...</td>\n",
       "      <td>CITIBANK, N.A.</td>\n",
       "      <td>FL</td>\n",
       "      <td>33020</td>\n",
       "      <td>None</td>\n",
       "      <td>Consent not provided</td>\n",
       "      <td>Web</td>\n",
       "      <td>05/21/20</td>\n",
       "      <td>Closed with monetary relief</td>\n",
       "      <td>Yes</td>\n",
       "      <td>NaN</td>\n",
       "      <td>3661785</td>\n",
       "    </tr>\n",
       "    <tr>\n",
       "      <th>3</th>\n",
       "      <td>05/18/20</td>\n",
       "      <td>Debt collection</td>\n",
       "      <td>Credit card debt</td>\n",
       "      <td>Written notification about debt</td>\n",
       "      <td>Didn't receive notice of right to dispute</td>\n",
       "      <td>Company has wrong information on me and thus n...</td>\n",
       "      <td>Company has responded to the consumer and the ...</td>\n",
       "      <td>CITIBANK, N.A.</td>\n",
       "      <td>CA</td>\n",
       "      <td>935XX</td>\n",
       "      <td>None</td>\n",
       "      <td>Consent provided</td>\n",
       "      <td>Web</td>\n",
       "      <td>05/18/20</td>\n",
       "      <td>Closed with explanation</td>\n",
       "      <td>Yes</td>\n",
       "      <td>NaN</td>\n",
       "      <td>3657603</td>\n",
       "    </tr>\n",
       "    <tr>\n",
       "      <th>4</th>\n",
       "      <td>05/21/20</td>\n",
       "      <td>Credit card or prepaid card</td>\n",
       "      <td>General-purpose credit card or charge card</td>\n",
       "      <td>Other features, terms, or problems</td>\n",
       "      <td>Other problem</td>\n",
       "      <td>NaN</td>\n",
       "      <td>Company has responded to the consumer and the ...</td>\n",
       "      <td>CITIBANK, N.A.</td>\n",
       "      <td>FL</td>\n",
       "      <td>328XX</td>\n",
       "      <td>Older American</td>\n",
       "      <td>Other</td>\n",
       "      <td>Web</td>\n",
       "      <td>05/21/20</td>\n",
       "      <td>Closed with explanation</td>\n",
       "      <td>Yes</td>\n",
       "      <td>NaN</td>\n",
       "      <td>3661714</td>\n",
       "    </tr>\n",
       "  </tbody>\n",
       "</table>\n",
       "</div>"
      ],
      "text/plain": [
       "  Date received                      Product  \\\n",
       "0      01/24/20  Credit card or prepaid card   \n",
       "1      02/12/20  Credit card or prepaid card   \n",
       "2      05/21/20  Credit card or prepaid card   \n",
       "3      05/18/20              Debt collection   \n",
       "4      05/21/20  Credit card or prepaid card   \n",
       "\n",
       "                                  Sub-product  \\\n",
       "0  General-purpose credit card or charge card   \n",
       "1  General-purpose credit card or charge card   \n",
       "2                           Store credit card   \n",
       "3                            Credit card debt   \n",
       "4  General-purpose credit card or charge card   \n",
       "\n",
       "                                             Issue  \\\n",
       "0  Problem with a purchase shown on your statement   \n",
       "1                            Getting a credit card   \n",
       "2  Problem with a purchase shown on your statement   \n",
       "3                  Written notification about debt   \n",
       "4               Other features, terms, or problems   \n",
       "\n",
       "                                           Sub-issue  \\\n",
       "0  Card was charged for something you did not pur...   \n",
       "1                    Delay in processing application   \n",
       "2  Credit card company isn't resolving a dispute ...   \n",
       "3          Didn't receive notice of right to dispute   \n",
       "4                                      Other problem   \n",
       "\n",
       "                        Consumer complaint narrative  \\\n",
       "0                                                NaN   \n",
       "1                                                NaN   \n",
       "2                                                NaN   \n",
       "3  Company has wrong information on me and thus n...   \n",
       "4                                                NaN   \n",
       "\n",
       "                             Company public response         Company State  \\\n",
       "0  Company has responded to the consumer and the ...  CITIBANK, N.A.    NJ   \n",
       "1  Company has responded to the consumer and the ...  CITIBANK, N.A.    IL   \n",
       "2  Company has responded to the consumer and the ...  CITIBANK, N.A.    FL   \n",
       "3  Company has responded to the consumer and the ...  CITIBANK, N.A.    CA   \n",
       "4  Company has responded to the consumer and the ...  CITIBANK, N.A.    FL   \n",
       "\n",
       "  ZIP code            Tags Consumer consent provided? Submitted via  \\\n",
       "0    07302            None       Consent not provided           Web   \n",
       "1    600XX            None       Consent not provided           Web   \n",
       "2    33020            None       Consent not provided           Web   \n",
       "3    935XX            None           Consent provided           Web   \n",
       "4    328XX  Older American                      Other           Web   \n",
       "\n",
       "  Date sent to company Company response to consumer Timely response?  \\\n",
       "0             01/24/20  Closed with monetary relief              Yes   \n",
       "1             02/12/20  Closed with monetary relief              Yes   \n",
       "2             05/21/20  Closed with monetary relief              Yes   \n",
       "3             05/18/20      Closed with explanation              Yes   \n",
       "4             05/21/20      Closed with explanation              Yes   \n",
       "\n",
       "   Consumer disputed?  Complaint ID  \n",
       "0                 NaN       3508199  \n",
       "1                 NaN       3529728  \n",
       "2                 NaN       3661785  \n",
       "3                 NaN       3657603  \n",
       "4                 NaN       3661714  "
      ]
     },
     "execution_count": 8,
     "metadata": {},
     "output_type": "execute_result"
    }
   ],
   "source": [
    "import pandas as pd\n",
    "import numpy as np\n",
    "from datetime import datetime\n",
    "\n",
    "df = pd.read_csv('https://raw.githubusercontent.com/IBM/python-and-analytics/master/data/cfpbciti.csv')\n",
    "df.head(5)"
   ]
  },
  {
   "cell_type": "markdown",
   "metadata": {},
   "source": [
    "## 4.0 Clean and Prepare data for NLU scoring <a name=\"clean\"></a>"
   ]
  },
  {
   "cell_type": "markdown",
   "metadata": {},
   "source": [
    "We are interested in the customer's sentement about various things, like `Product` or `Sub-product`. The column for `Customer complaint narrative` looks like it contains the text we should analyze. Let's look at this.\n",
    "The first few rows have a 'NaN' value, so we'll look at row 3."
   ]
  },
  {
   "cell_type": "code",
   "execution_count": 9,
   "metadata": {},
   "outputs": [
    {
     "data": {
      "text/plain": [
       "\"Company has wrong information on me and thus not receiving proper notification on debt being sent to collection. Proper notification wasn't sent in advance on debt was going to be sent to collections. No effort was done to try and reach me before hand. Also they called a family member that I have no communication with to try an locate and having the correct phone number to reach me.\""
      ]
     },
     "execution_count": 9,
     "metadata": {},
     "output_type": "execute_result"
    }
   ],
   "source": [
    "text1 = df.loc[3,\"Consumer complaint narrative\"]\n",
    "text1"
   ]
  },
  {
   "cell_type": "markdown",
   "metadata": {},
   "source": [
    "Now let's drop all the 'NaN' values found in the `Consumer complaint narrative` column using the Pandas method [dropna()](https://pandas.pydata.org/pandas-docs/stable/reference/api/pandas.DataFrame.dropna.html)"
   ]
  },
  {
   "cell_type": "code",
   "execution_count": 10,
   "metadata": {},
   "outputs": [
    {
     "data": {
      "text/plain": [
       "3     Company has wrong information on me and thus n...\n",
       "8     I have closed my credit card account with Citi...\n",
       "13    I want to raise a complaint against Citibank (...\n",
       "16    On XX/XX/ 2020, Citibank posted a fee to my ac...\n",
       "17    I was shocked when I reviewed my credit report...\n",
       "Name: Consumer complaint narrative, dtype: object"
      ]
     },
     "execution_count": 10,
     "metadata": {},
     "output_type": "execute_result"
    }
   ],
   "source": [
    "df2=df['Consumer complaint narrative'].dropna(how = 'all')\n",
    "df2.head(5)"
   ]
  },
  {
   "cell_type": "markdown",
   "metadata": {},
   "source": [
    "We'll convert the dataframe column to a string to send to the NLU endpoint for scoring."
   ]
  },
  {
   "cell_type": "code",
   "execution_count": 11,
   "metadata": {},
   "outputs": [
    {
     "data": {
      "text/plain": [
       "'3       Company has wrong information on me and thus n...\\n8       I have closed my credit card account with Citi...\\n13      I want to raise a complaint against Citibank (...\\n16      On XX/XX/ 2020, Citibank posted a fee to my ac...\\n17      I was shocked when I reviewed my credit report...\\n18      1.XXXX XXXX  XXXX is reporting I have an accou...\\n20      I have requested a reduction of the interest r...\\n21      THE FRAUDULENT ACCOUNT ON MY CREDIT REPORT WAS...\\n23      Macy\\'s/DSNB # XXXX is reporting an account to ...\\n24      I, XXXX XXXX, opened a savings account with Ci...\\n25      Amount is over {$1000.00}, I had financial har...\\n26      This is regarding disputes numbers XXXX and XX...\\n27      You Have 2 New Inquiries 2 new inquiries were ...\\n32      I got a 2nd credit card from Home Depot as the...\\n34      Hi there. I have an account with citi bank it ...\\n36      On XXXX XXXX XXXX I made a substantial payment...\\n41      I have been getting charged XXXX every month f...\\n42      I called a plumber to do work on my kitchen si...\\n43      Item purchased at whats was supposed to be sea...\\n44      CITI Bank Shell Fuel Rewards Card I applied be...\\n46      I opened a Citibank checking account on XX/XX/...\\n48      I was shocked when I reviewed my credit report...\\n49      Issue with XXXX XXXX  purchase. Contacted XXXX...\\n52      I have specifically submitted a request to STO...\\n53      I was an authorized user on the Citibank CBNA ...\\n54      I got an un-authorized charge in the amount of...\\n55      CITI AADVANTAGE PLATINUM SELECT CARD. They had...\\n59      I scheduled an electronic payment. They cancel...\\n60      My account was hacked and the guy opened a XXX...\\n61      Card limit went from {$7000.00} to {$4000.00}....\\n63      I purchased a XXXX TV at Best Buy. The salespe...\\n67      I have a Sears Citibank Credit Card, and I mad...\\n72      XXXX I have contacted Citibank on XX/XX/XXXX t...\\n75      to whom this may concern : i was scammed in XX...\\n77      I had a credit card with Citibank that I origi...\\n80      This morning, I received an email from Citi te...\\n81      Contacted company on XX/XX/XXXX to inquire why...\\n82      I write to complain about an interest charged ...\\n85      I submitted a complaint ( # XXXX-XXXX  ) to th...\\n86      Citi bank Credit card closed by the bank even ...\\n87      On XX/XX/XXXX I was in my home town shopping a...\\n88      I was charged a late payment fee of {$30.00} b...\\n89      Since my complaint on XX/XX/XXXX below so many...\\n90      On XX/XX/2020 two transaction for XXXX were ma...\\n91      Participated in their {$700.00} bonus offer, a...\\n93      I took advantage of a citi flex loan offer fro...\\n94      -I purchased item on XX/XX/XXXX from XXXX. \\\\n-...\\n95      In XX/XX/XXXX I opened a Macy \\'s American Expr...\\n97      I set up automatic payments for my Citi Thank ...\\n98      I clicked on an ad for a new account promotion...\\n99      I sought to use my Citi AAdvantage card for pu...\\n100     My card is Citi Dividend card which every quar...\\n101     On XX/XX/XXXX I received a letter from Citiban...\\n103     On XX/XX/XXXX XXXX XXXX  XXXX  send me a lette...\\n104     Hi, I have filed a dispute for a charge on my ...\\n108     Citibank made a transfer from my old bank acco...\\n109     I applied for and was approved for Citi Americ...\\n116     Refinanced home through XXXX XXXX, XXXX XXXX X...\\n117     I opened new checking and savings accounts at ...\\n120     My wife tried to make a payment on my Sears/Ci...\\n122     CITI, its counterparts and or subsidiaries, bu...\\n123     On XX/XX/2020 there were 6 unauthorized transa...\\n130     Currently hold only one credit card- Best Buy ...\\n131     This is in reference to allegations put forth ...\\n135     I have credit cards from CitiBank that earn XX...\\n138     On XX/XX/XXXX, I made travel arrangements with...\\n139     On XX/XX/20, I purchased {$1000.00} worth of g...\\n140     There are fraudulent inquiries on my credit re...\\n142     I did receive a student loan from CitiBank whi...\\n143     On Saturday XX/XX/XXXX I found in my mailbox a...\\n145     On or about XX/XX/XXXX-XX/XX/XXXX, I was order...\\n151     Macys XXXX  XXXX. i signed up for paperless bi...\\n152     Mr. XXXX file an on-line application for a Mac...\\n153     Citi bank is a most of 4 big banks in USA, But...\\n154     XXXX : Citibank Joint Checking Account - Line ...\\n156     My husband was a XXXX XXXX XXXX at a XXXX in t...\\n157     My card was charged for an item I didnt order....\\n160     On XXXX XX/XX/2019 I purchased two tickets fro...\\n165     Citi Cards have restricted me from speaking to...\\n166     CITIBANK! The worst bank that ever existed! I ...\\n167     I have had a Best Buy credit card for years. I...\\n168     During the months of XXXX to XX/XX/XXXX there ...\\n169     CALLING INTO RUDE UNPROFESSIONAL CITI BANK ONC...\\n175     XX/XX/2020 I\\'ve had my Best Buy credit card fo...\\n178     On XX/XX/XXXX at XXXX XXXX  Credit card was us...\\n182     I have a Citi Double Cash mastercard. Per Citi...\\n183     From : XXXX XXXX Address on file XXXX XXXX XXX...\\n185     I had a XXXX limit on my credit card, for whic...\\n186     I made a purchase at Home Depot for {$27.00} a...\\n191     I have two purchases on my my account ( 1st XX...\\n194     Please re-open case # XXXX. Despite a letter I...\\n195     I had fraud on my account and closed it months...\\n198     Hi, my credit report shows that I have hard in...\\n200     I opened a Citi checking and savings account o...\\n201     On XX/XX/2020, I contacted CitiBank \\'s credit ...\\n203     On XX/XX/XXXX, I disputed a charge for XXXX fr...\\n204     On XXXX of XXXX, I opened a credit card accoun...\\n206     I am not sure how this happened, I believe tha...\\n207     I am writing regarding the following disputes ...\\n208     On XX/XX/XXXX I made an online purchase from \"...\\n210     Around the end of XXXX ( XXXX ) I received a c...\\n212     Goal : Receive a balance refund from CITI COST...\\n213     On XX/XX/XXXX, I requested Citibank close my c...\\n214     I have this account that was suppose to be wit...\\n218     The below happened with Citibank : I was charg...\\n221     Citi Mastercard : XX/XX/XXXX : I was scammed i...\\n222     Be advised Im putting your bank on full legal ...\\n223     Hello, I am trying to dispute charges on 2 Cit...\\n225     I had my account with Citibank for last 2o yea...\\n226     I was shocked when I reviewed my credit report...\\n229     XXXX XXXX XXXX XXXX sent a letter to dispute a...\\n231     This is regarding several billing disputes tha...\\n233     I see multiple 30 days late marks which is a c...\\n234     I attempted to close my account with Citi Bank...\\n235     On this date XXXX I went into the bank to clos...\\n236     I called XX/XX/20 at XXXX talked to Agent XXXX...\\n237     A payment was mailed to Home Depot with a 3rd ...\\n239     dear cfpb, i filed a complaint to cfpb last ye...\\n244     Case # XXXX. \\\\nI would like to reopen dispute ...\\n245     We purchased a kitchen suite for {$4000.00} fr...\\n246     I made a promotional purchase for 24 month int...\\n247     I am a Citibank customer and had one checking ...\\n248     Since XX/XX/2019, when my identity and cards w...\\n252     This complain is regarding the fraudulent char...\\n253     I am still being affected by Covid 19, and I c...\\n255     Purchased an appliance from Sears in XXXX, Tex...\\n256     I received a call about a missed payment, whic...\\n257     In XX/XX/2020, I opened a Citi XXXX Preferred ...\\n258     On XX/XX/XXXX at XXXX, I called Citi DoubleCas...\\n261     XXXX XXXX shut down my account on XX/XX/2020 w...\\n262     Citibank has refused to pay a {$500.00} dollar...\\n263     As I talk to citi bank Clerk in XX/XX/XXXX, th...\\n264     Citi Bank failed to link the correct account t...\\n267     I have written to XXXX three times requesting ...\\n269     I have attempted 3 times to close my savings a...\\n270     I have an XXXX XXXX Citi Bank Mastercard. This...\\n271     My wife has XXXX and has had for several years...\\n272     I am looking for Citi Bank Student Loan inform...\\n274     On XX/XX/XXXX, I was notified that my new Citi...\\n275     NUMEROUS TIMES I HAVE REACHED OUT TO MACYS IN ...\\n276     I ordered flowers on XX/XX/2019 from XXXX XXXX...\\n277     I pay ALL my bills on the XXXX of the month wi...\\n278     On XX/XX/2020 I received a call from my Citiba...\\n281     The creditor closed this card, considering tha...\\n283     Citi Reference Number : XXXX This would be my ...\\n288     Account balance is {$0.00} and is showing as a...\\n289     My husband and I booked a trip through XXXX XX...\\n292     This complaint is with Citi Bank. The address ...\\n293     Hello, I am writing to complain about incorrec...\\n294     My complaint is in regards to my Citi Diamond ...\\n295     These companies were supposed to do a soft inq...\\n301     Around XX/XX/2020, I ordered my cardholder agr...\\n302     At the beggining of this year, XX/XX/XXXX, my ...\\n303     I called Citi on XX/XX/2020 for my Premiere Ca...\\n312     Citibank has blocked my debit card few times a...\\n314     On XX/XX/XXXX, I was informed by Citibank that...\\n316     I was victim of identity theft as a result of ...\\n323     I found out I am an identity theft victim by t...\\n324     I have had Macy \\'s department credit card for ...\\n325     I had purchased a XXXX XXXX Gift set worth {$1...\\n326     I received a letter stating that I owed {$2500...\\n331     I\\'m confused and I was shocked when I reviewed...\\n332     I have had citi diamond preferred card since X...\\n334     I filed credit card dispute with Costco Citi B...\\n337     I sold a car on XXXX. Received payment through...\\n338     Originally, after opening an account with Shop...\\n342     I paid off my Macy \\'s credit card balance of {...\\n344     Citi Cards, XXXX, XXXX. Stopped my bank autopa...\\n346     I have a Citi Prestige credit card. There was ...\\n347     XX/XX/2020 I applied online and was approved f...\\n348     I ordered a trial product online for {$12.00}....\\n349     I received an email from Citi XXXX XXXX offeri...\\n357     I signed up for Citi AAdvantage card, and was ...\\n358     someone opened MACYs credit card under my name...\\n359     I applied for a credit card at Best Buy when I...\\n360     I was watching my balance everytime i made wit...\\n361     On XX/XX/2020 I was browsing the XXXX website ...\\n362     Dear CFPB, I have been in good standing with m...\\n364     I updated my auto-payment method in XXXX and i...\\n365     On XX/XX/XXXX, my AAdvantage account number XX...\\n368     I made a purchase online ( website : XXXX  ) f...\\n369     I have been trying to have the right amount, a...\\n370     Citibank N.A, Best Buy Credit Card accessed my...\\n371     Was on hold with CitiBank for 49 minutes and w...\\n372     I purchased the membership from this gym back ...\\n373     Please CFPB forward the following documents to...\\n374     I am writing about an account which reports fr...\\n379     Citibank bank gave me a forebearnace for XXXX,...\\n381     I made a purchase using my Citibank XXXX XXXX ...\\n382     On XX/XX/XXXX, we received an alert on the Pos...\\n385     In XX/XX/2019 I was setting up my online passw...\\n386     I received a new Citi Aadvantage Platinum Sele...\\n387     My name is XXXX XXXX and I am from XXXX, NC. O...\\n388     I have a citi retail services, citi bank onlin...\\n390     This is the request to reopen the investigatio...\\n391     Sears has an old debt reporting on my credit t...\\n393     A fraudulent account from THD/CBNA, XXXX CREDI...\\n394     Citibank closed my credit card account without...\\n395     Sears informed me they would cancel the late p...\\n396     I, XXXX XXXX OPENED A SAVING ACCOUNT WITH CITI...\\n397     I have filed a dispute in regards with the inc...\\n398     Citibank was not willing to work with any paym...\\n402     I had a Costco Anywhere credit card. That cred...\\n407     I am writing to complain that Citi doesn\\'t mak...\\n411     XXXX is reporting I have an account with them ...\\n413     Re : Citi Double Cash Mastercard XXXX XXXX XXX...\\n414     Received and accepted an offer 2 mo ago to ope...\\n415     I used the card sometimes around XX/XX/XXXX fo...\\n417     I purchased XXXX XXXX Tickets for a XXXX, WA s...\\n418     I charged a rental at XXXX XXXX and was not al...\\n420     I received a letter from sears credit services...\\n421     Citi Bank refunded my last payment in the amou...\\n422     I would like to formally file a complaint agai...\\n424     Hello, I have submitted a request multiple tim...\\n426     On XX/XX/20, I made 8 charges of {$1300.00} to...\\n429     Your full name : XXXX XXXX Current address : X...\\n430     The Home Depot credit card through Citi bank o...\\n431     I signed up and opened a citibank checking acc...\\n432     I opened a Best Buy credit card with a credit ...\\n433     I purchased furniture from Macy \\'s. The produc...\\n440     This is a fraudulent account opened by someone...\\n445     Last year, I checked mycredit report when appl...\\n447     Hello, I recently opened Checking ( ending wit...\\n450     I write to dispute {$32.00} in late charges ( ...\\n452     there is a hard inquiry from XXXX/CBNA which d...\\n453     I went to Citibank to deposit money for my acc...\\n454     I purchased hotel lodging through XXXX. \\\\n\\\\nTh...\\n455     Buying windows from Home Depot it was charged ...\\n457     I was sent a refund check by Citi Card Add-On ...\\n459     This is for the Citi AAdvantage Platinum Selec...\\n464     I have a 24 month interest promotional account...\\n466     On XX/XX/2020 I purchased as a gift, the XXXX ...\\n467     I have called twice ( once today, XX/XX/2020 )...\\n470     There was a fraudulent charge on my Citibank c...\\n473     I purchased a trip through XXXX on XX/XX/XXXX ...\\n476     I received an airline credit to my credit card...\\n479     citi denied to explain to me in detatails why ...\\n480     I hereby, request your assistance in my disput...\\n481     I was scammed by a person posing as XXXX XXXX ...\\n482     Dear Sir or Madam : I received my XXXX stateme...\\n485     I have a citi credit card with a flex loan bal...\\n488     I am disputing the lates on these accounts bec...\\n489     My Citibank Diamond and Thank You Preferred ca...\\n490     Opened multiple XXXX XXXX credit card accounts...\\n492     There\\'s an inquiry in my credit report XXXX th...\\n493     On XXXX I called to see if I could get a lower...\\n494     1. On XX/XX/XXXX We disputed the credit card t...\\n495     I paid my balance on my Citibank Shop your way...\\n496     My name is XXXX XXXX XXXX XXXX. I was an Autho...\\n497     I have an CD with Citibank for years. We usual...\\n501     I purchased a XXXX dishwasher from BestBuy on ...\\n502     I closed the credit card account on XX/XX/XXXX...\\n503     This Macys account has been reporting for well...\\n504     Had a substantial minimum payment due on credi...\\n506     Hello to whom it may concern Im a customer of ...\\n509     This complaint is against Citibank , N.A . due...\\n510     XX/XX/XXXX I once again contacted Citi Bank fo...\\n511     Based on the Citi New checking account target ...\\n512     URGENT. APPLYING FOR HOME LOAN. CREDIT SCORE I...\\n514     I have been trying to reach citi involving my ...\\n517     I am a victim of identity theft. I discovered ...\\n518     On XX/XX/2020 I sent written communication to ...\\n519     This is a follow-up to complain XXXX. The prev...\\n526     On XX/XX/2020 I received a letter from Citiban...\\n527     My Ex wife of four years has me listed as an a...\\n528     To Whom It May Concern : I hope you have been ...\\n529     My account was opening on XX/XX/2019 where I w...\\n531     I have been Citibank clients more than 5 years...\\n533     Based on the Citi New checking account target ...\\n535     Hello, We have a Bestbuy Visa card that is by ...\\n536     I used citi bank online pay to make a payment ...\\n537     On XX/XX/2020, I received a call from the Citi...\\n538     I received 2 gift cards from Macys for items t...\\n539     Citi Card & Citi Bank Checking - No way to acc...\\n541     Greetings, I have submitted a complaint a coup...\\n547     Citi Cards has three times ruled in favor of t...\\n548     Citibank has consistently removed funds from m...\\n549     In XX/XX/XXXX I called the bank to cancel said...\\n550     Statement for past month did not include credi...\\n551     On or about XX/XX/2018, I requested copies of ...\\n553     Hello, We were the victims of fraud through Ci...\\n554     In XXXX I opened a Best Buy credit card to pur...\\n555     I made a charge and cancel the service the nex...\\n556     Sears Citibank credit card charging on my cred...\\n557     Someone stole my sons shell card number There ...\\n558     On XX/XX/2020 I contacted Citi-Bank about reli...\\n559     The company is XXXX XXXX XXXX ( XXXX XXXX XXXX...\\n561     Purchased appliances at Best Buy and was offer...\\n562     I would like assistance with disputing a charg...\\n563     citi bank runs a promotion open a new checking...\\n564     Citibank is exploiting the corona crisis to fi...\\n566     My father school gave him a check to deposit b...\\n569     I bought a Costco membership at one of their s...\\n572     Citi double credited my account on XX/XX/XXXX ...\\n574     My Best Buy store card ( owned by Citibank ) r...\\n575     I received a notice last week that my Citibank...\\n576     This is a complaint about FRAUD AND ID THEFT b...\\n577     I applied for a credit card with Home Depot  o...\\n580     This complaint concern Citi and XXXX XXXX and ...\\n581     I have recently been temporarily laid off due ...\\n582     * I received an email ( on XX/XX/XXXX ) from C...\\n583     Someone opened a checking account with Citi un...\\n584     I recently checked my credit report and there ...\\n586     The due date on my Citi credit card is the 1st...\\n588     I closed my Citi credit card on XX/XX/XXXX. On...\\n590     FooterCiti Opens Popup Why Citi Opens in new w...\\n593     Under Citi Bank \\'s promotion plan, if I open a...\\n596     today XX/XX/20 I\\'ve wasted over 5 hours ( 2 on...\\n600     Hello, On XX/XX/XXXX I applied for the Citi XX...\\n601     I have not received any confirmation on how yo...\\n603     On XX/XX/2020 a credit of {$16000.00} from a c...\\n604     I signed up for a Best Buy credit card with on...\\n607     XX/XX/2020 contacted company to make XXXX Paym...\\n608     In XX/XX/2019, Citibank- The Home Depot report...\\n612     I am currently going through extreme financial...\\n614     Problem # 1 : In light of the economic crisis ...\\n618     XXXX XXXX XXXX XXXXp XX/XX/XXXX : $ XXXX Actio...\\n619     I was going over my credit report and Citi Car...\\n620     THE ACCOUNT HAS REACHED THE STATUE OF LIMITATI...\\n621     To whom it may concern, I am writing to compla...\\n623     I paid my Macy \\'s credit card account in full ...\\n625     On my statement billing cycle ending on XX/XX/...\\n626     I called my credit card company ( Citibank/XX/...\\n627     2 major issues.\\\\n\\\\n1. I opened a number of XXX...\\n629     There are two fraudulent accounts reporting on...\\n630     On XX/XX/2019 I filed a dispute on my Citibank...\\n632     I have been trying change my name with Citiban...\\n633     After I got my final paycheck from my company,...\\n634     Hello, I have a \" Double Cash \\'\\' revolving cre...\\n636     I made a {$500.00} payment that posted XX/XX/X...\\n637     I have a Macy \\'s American Express card. A mont...\\n639     We bought a dishwasher and it was broken. We c...\\n640     Online access to my savings, checking, and cre...\\n641     XX/XX/XXXX Office of The President at CitiBank...\\n642     On XX/XX/XXXX, I booked a flight for my family...\\n644     Citi has reduced my card limits multiple times...\\n646     On XX/XX/2019, I opened a checking account in ...\\n647     This is regarding my XXXX XXXX Credit Card han...\\n654     I receive promotional offers for an XXXX XXXX ...\\n655     I made my XXXX payment 1 day late, but intime ...\\n656     In XX/XX/XXXX and XX/XX/XXXX, I contacted Citi...\\n660     Ref : XXXX XXXX Acct # XXXX ; XXXX XXXX , XXXX...\\n662     XXXX was using XXXX  XXXX  for their store cre...\\n665     I have been sending my brother a check for {$1...\\n671     I used my Citibank check to deposit {$5000.00}...\\n673     My mastercard from citicards was hacked around...\\n674     I am trying to get approved for a mortgage. Ci...\\n675     I have a credit card with Citibank which is co...\\n676     I opened 2 disputes with Citi Card on XX/XX/20...\\n680     I called the customer service number on my cre...\\n684     Citi Cards keep lowering my credit limit on ac...\\n685     I closed my savings account with citibank ( ac...\\n687     Complaint - Denial of medical short sale with ...\\n688     Hi, I had called Citi credit card to enable th...\\n690     Because I was late once Citibank feels that it...\\n691     This complaint pertains to the failure of Citi...\\n693     I have 3 home depot cards that are supposedly ...\\n695     I closed my Citi XXXX XXXX XXXX XXXX account o...\\n696     I contacted representatives from the following...\\n697                                     Credit card fraud\\n698     Citibank fails to apply a payments appropriate...\\n699     I got a Best Buy credit card with the purchase...\\n702     I opened a citi bank account on XXXX, submitte...\\n703     I purchased a new piano. This piano was delive...\\n705     I was trying to do a product change on my cred...\\n707     Dear Citi Executive Response Unit : This lette...\\n709     A few years ago when the XXXX  breach occurred...\\n710     To whom it may concern, I created an account t...\\n712     They lowered my credit limit. I want it put ba...\\n714     To Whom it May Concern : I am writing this let...\\n716     On XX/XX/2020, I visited the SEARS on XXXX XXX...\\n717     In XXXX I made a purchase of shoes ( sandals )...\\n720     I have been a victim of identity theft, a Citi...\\n721     I AM VICTIM OF AN IDENTITY THEFT, AND I HAVE S...\\n724     I am a Macys cardholder since XXXX. I went to ...\\n727     Citibank failed to verify checking account inf...\\n729     In regards to the attached transactions on my ...\\n733     I see multiple 30 & 60-days late marks which i...\\n735     Citibank , N.A . closed my Costco Anywhere Vis...\\n738     Hi, I saw late payment remarks on my credit re...\\n740     Last year I had fraud occur on my Best Buy acc...\\n743     This relates to my Costco visa card issued by ...\\n746     Hi CFPB and Citi Bank Compliant office, I have...\\n748     I have two CitiCard accounts ( one through Cos...\\n750     I have a credit card with Citibank that I have...\\n752     From XXXX I was in multiple XXXX  XXXX  ( XXXX...\\n753     I applied for a Best Buy credit card by follow...\\n755     I have called Citibank twice now in last 6 mon...\\n756     ( NOTE : I LISTED THE WRONG CREDIT CARD CO. NA...\\n757     XX/XX/20 : CITIFINANCIAL BANK IS REPORTING EXT...\\n760     On XXXX XX/XX/XXXX, a balance transfer of {$25...\\n761     I opened a new online checking account from Ci...\\n763     I asked for a payoff, I was informed because o...\\n764     Unknown to me, I have been charged a debt prot...\\n765     XX/XX/2020 XXXX  report a \" hard pull \\'\\' from ...\\n767     I activated a 18 month special financing offer...\\n768     Despite two written requests, the unverified i...\\n769     This particular account situation that is late...\\n772     CitiBank approved me for several AAdvantage ca...\\n774     AS A CONSUMER, I AM TRYING TO REMOVE THE FRAUD...\\n777     I booked a newly opened guest suite at XXXX de...\\n780     My personal information was used without my kn...\\n782     This is unbelievable this bank and credit card...\\n783     I received a letter dated XX/XX/2020 from Citi...\\n784     Macy \\'s American Express credit card owed me {...\\n785     The amount due for my Macy \\'s bill, payment du...\\n786     I filed a chapter XXXX debt repayment plan. Af...\\n788     Hello, Citibank has not awarded the promotiona...\\n789     In the month of XXXX, 2019, I stayed at a hote...\\n790     Recently I contacted Exxon Mobil because of th...\\n791     I contacted Citi bank Sears card on XX/XX/2020...\\n793     I disputed inaccurate reporting by Citi Studen...\\n796     TImeline : XX/XX/XXXX - fradulent charge made ...\\n797     XXXX XXXX XXXX, tried to raise my interest rat...\\n798     I do not agree with Citi Card \\'s merchant favo...\\n800     I booked two flight tickets with an online tra...\\n801     During COVID-19, all other credit card compani...\\n803     My Best Buy Visa Card had a fraudulent charge ...\\n805     This particular account situation that is late...\\n807     : My Macys XXXX XXXX card credit limit was dra...\\n810     Back in early XX/XX/XXXXI opened a CitiBank Sa...\\n811     1 ) Nine fraudulent charges made by XXXX XXXX/...\\n812     I received a fraud alert from Citibank on XX/X...\\n813     In XX/XX/XXXX, I purchased an appliance from a...\\n814     To Whom It May Concern, On XX/XX/2019 Citi ide...\\n815     Dear Madam or Sir, I am writing you regarding ...\\n816     THIS COMPANY HAS NOT VERIFIED NOT INVESTIGATED...\\n817     There is a 30-day and a 60-day late payment re...\\n818     Due to unexpected expenses, attempting to mana...\\n820     On XX/XX/XXXX, I hired the moving helper XXXX ...\\n821     When will my bank offer latest card technology...\\n823     To whom it may concern, The below summary will...\\n824     I have been trying since XX/XX/XXXX to get hel...\\n825     From XX/XX/XXXX to XX/XX/XXXX, I discover seve...\\n826     I was charged TWO payments for Homeowners Insu...\\n827     Citibank has blocked a personal checking accou...\\n833     DSNB MACYS XX/XX/XXXX {$1800.00} XXXX XXXX XX/...\\n835     Describe what happened, and well send your com...\\n836     Attention : XXXX XXXX Citibank and the merchan...\\n837     I applied and got approved for a new Citi cred...\\n838     I contacted Best Buy Credit Card and notified ...\\n839     I have a Costco Visa Credit Card administered ...\\n842     Citi Costco Visa credit card closed my credit ...\\n844     Hello I was charged for the month of XXXX {$40...\\n847     I was working for a company making good money,...\\n848     I received a call from Citicards about my acco...\\n849     In XXXX, XXXX, I registered for a Citibank cre...\\n852     I am having a problem getting anyone to talk t...\\n853     I open checking account in Citibank in XXXX an...\\n856     XXXX XXXX XXXX XXXX ( XXXX ) erroneously and i...\\n857     I received an email from Citi Bank on XX/XX/XX...\\n860     I attempted to order a refrigerator through Se...\\n861     I was shocked when reviewing my credit report ...\\n862     I dispute this balance due as I submitted my l...\\n864     ** I am writing this on XX/XX/2020 at XXXX XXX...\\n865     I tried making a payment on line but never rec...\\n867     I already reached out to the credit bureaus an...\\n868     i have an ITIN and when get a report they info...\\n872     Citi credit card I called when I had a XXXX XX...\\n873     On XX/XX/XXXX and XX/XX/XXXX, I made two large...\\n876     The representatives of Citibank tried to gathe...\\n878     Citi thank you card reported a 30 day to all t...\\n885     Both XXXX XXXX XXXX  and XXXX ( aka XXXX XXXX ...\\n886     Citi / AAdvantage Platinum Select World EliteT...\\n888     I opened a citi gold account in XX/XX/2019 and...\\n889     CitiBank is the bank I have a complaint about,...\\n892     INQUIRY FROM THIS COMPANY ON MY CREDIT REPORT,...\\n893     I have a negative balance of - {$2800.00} on m...\\n895     I own a joint savings account with my teenage ...\\n900     ( Related to XXXX Reports XXXX on XX/XX/XXXX, ...\\n901     I went to XXXX XXXX XXXX XXXX XXXX XXXX to ope...\\n905     XXXX XXXX the XXXX, I disputed a XXXX charge f...\\n908     I had made a purchase right before COVID-19 sh...\\n909     In XXXX of 2019 we were notified via email tha...\\n911     ON XXXX last year I realize my Macys credit ca...\\n912     I applied the Citi XXXX XXXX credit card on XX...\\n913     Late XXXX I purchased a XXXX  online at Best B...\\n914     My XXXX  credit report received a hard inquiry...\\n915     XX/XX/2019 I was charged twice for a meal at X...\\n916     This complaint deals with a loan issue and a R...\\n918     This company accepted my security deposit XX/X...\\n919     Around XX/XX/2014, an unauthorized transaction...\\n920     My car was having its 2nd infotainment module ...\\n922     My husband and I purchased \" XXXX XXXX \\'\\' clas...\\n923     A credit card was opened in my name from Best ...\\n925     I submitted an application online for a checki...\\n926     Citibank will be closing my account that I hav...\\n927     I started having issues with my City Double Ca...\\n930     I am submitting this complaint on the basis of...\\n931     1. I logged into the Citibank app to make my p...\\n932     I have contacted Citibank Best Buy and spoke t...\\n933     Citibank continues to place irrational respons...\\n934     After being the victim of identity theft, a po...\\n938     On XX/XX/XXXX I received a call from XXXX. I w...\\n940     XXXX XXXX,2020 {$1500.00} and XX/XX/2020 {$230...\\n943     I opened an account on XX/XX/XXXX with Citiban...\\n945     I was shopping at Macy \\'s on Sunday XX/XX/XXXX...\\n947     On XX/XX/XXXX, I saw an offer online that said...\\n953     I have a Citibank credit card. It stopped work...\\n954     I opened a Citi account package includes check...\\n955     I contacted Citibank about my Citi / AAdvantag...\\n956     Please refer to my prior Complaint ID # XXXX. ...\\n961     Citi bank closed my credit card without asking...\\n964     The Citi Double Cash credit card deceitfully h...\\n966     I opened up a savings/checking account with Ci...\\n969     I had my student loans with Citibank prior to ...\\n974     There a Home Depot card in my name and made me...\\n975     I opened a Citibank checking and savings accou...\\n977     On XX/XX/2020 my wife and I purchased 2 airlin...\\n978     Around XX/XX/2019, i was solicited with an onl...\\n980     Im a victim of identity theft someone got my i...\\n981     SHELL CREDIT CARD WAS OPENED IN MY NAME WITH M...\\n982     Macys has a star rewards program for credit ca...\\n987     Citi denied my claim for a dispute when my XXX...\\n988     I opened an account with citi and enrolled in ...\\n989     Citibank has recently closed my credit card ac...\\n990     Early this year on XX/XX/2020 I went to XXXX X...\\n995     I applied for a store credit card at XXXX XXXX...\\n1000    I AM VICTIM OF AN IDENTITY THEFT, I HAVE SENT ...\\n1002    I have opened citi bank checking and savings a...\\n1005    This company refuses to take this off my credi...\\n1006    I originally established an account with Home ...\\n1009    Hello CFPB. Can you please forward the followi...\\n1010    As a employed person who has always made my pa...\\n1011    On/around XX/XX/XXXX I opened an online accoun...\\n1012    In XX/XX/XXXX I applied for a Citibank high yi...\\n1013    I did not receive the {$500.00} bonus as adver...\\n1014    NUMEROUS TIMES I HAVE REACHED OUT TO YOU AND A...\\n1015    An inquiry from CBNAOFDEC of XXXX XXXX XXXXXXX...\\n1020    I had a Macy \\'s credit card and I had a balanc...\\n1022    I have a credit card from XXXX Citibank/Citica...\\n1023    This involves completely new information about...\\n1025    I just finished speaking with your agency and ...\\n1028    This is the correspondence I sent to Citibank ...\\n1029    XXXX XXXX XXXX XXXX XXXX XXXX  XXXX, IL XXXX X...\\n1030    On XX/XX/2020 I re-submitted dispute XXXX once...\\n1035    I was notified of a inquiry on my XXXX credit ...\\n1037    I signed up for XXXX XXXX  AAdvantage MasterCa...\\n1042    CFPB, this is my third complaint to you regard...\\n1044    I am unable to login to the Citibank website t...\\n1045    On XX/XX/19 I noticed that XXXX the APP like X...\\n1047    Regarding Macy \\'s Credit Card -- I recently no...\\n1049    A vehicle was rented at XXXX XXXX on XX/XX/201...\\n1051    I received a letter out of nowhere from XXXX X...\\n1053    To : XXXX XXXX XXXX / XXXX XXXX XXXX XXXX Date...\\n1054    I opened two savings accounts between XXXX and...\\n1057    I closed my credit card with XXXX back in XXXX...\\n1058    I was shocked when reviewing my credit report ...\\n1062    I was involuntarily laid off from XXXX XXXX on...\\n1066    I applied for a Home Depot ( via Citibank ) cr...\\n1068    I opened a CitiBank account at the end of XX/X...\\n1070    CASE : XXXX Macy \\'s response to you said that ...\\n1072    Beginning in XX/XX/2019, Cit began failing to ...\\n1075    I was shocked when I reviewed my credit report...\\n1077    I have opened the Citi Double Cash Card on XX/...\\n1078    I\\'ve recently checked my credit report from XX...\\n1079    macys would not change my payment date or work...\\n1080    I recently received a letter and calls from XX...\\n1081    I have the Best Buy Reward Zone Master Card is...\\n1084    Hello, On Wednesday, XX/XX/XXXX, I received an...\\n1085    I have been harassed by Citibank & XXXX from l...\\n1087    I was shocked when I reviewed my credit report...\\n1089    On XX/XX/XXXX a Saving Account and a Checking ...\\n1090    My wife and I had a Costco Anywhere VISA Busin...\\n1091    I cancel my credit card account with Macy \\'s i...\\n1092    XX/XX/XXXX - Made a purchase for {$1400.00} fr...\\n1093    I have a transaction on my savings account wit...\\n1094    Citibank ( LLBean Visa ) wrongly reported high...\\n1095    About 6 uears who in 2014 I had a checking and...\\n1097    I had the absolute worst experience with my ne...\\n1098    On XX/XX/2019, I made an online payment to Cit...\\n1099    I have requested a copy of the document I sign...\\n1101    I have multiple issues on different dates with...\\n1102    Macys/DSNB # XXXX is reporting a charge off to...\\n1103    Around XX/XX/XXXX I received an email from my ...\\n1104    Hi Team, I had a bad situation with citibank b...\\n1105    I am writing regarding billing dispute XXXX. I...\\n1108    This is regarding dispute number XXXX I withdr...\\n1109    I am contacting you about the compromising of ...\\n1110    TO WHOM IT MAY CONCERN, A FEW WEEKS AGO I CAME...\\n1111    On XX/XX/XXXX I opened my Credit report and fo...\\n1114    I paid for a flight on XXXX XXXX on XX/XX/XXXX...\\n1115    The debt has a balance of zero but still shows...\\n1117    On XX/XX/2020 I have opened Citi Bank account ...\\n1119    Payments were made to XXXX MASTERCARD ( 17 ). ...\\n1124    I was contacted by XXXX XX/XX/XXXX to look at ...\\n1125    The bank confirms that the funds ( $ 34K+ in p...\\n1126    ACCOUNT # XXXX CITI illegally sold a fake acco...\\n1128    On XX/XX/2020 the XXXX  dollar annual fee for ...\\n1129    On XX/XX/2020, my mileage for XXXX  ( XXXX XXX...\\n1130    During the past few years, CITI XXXX has repor...\\n1133    XX/XX/29 found a {$350.00} unauthorized charge...\\n1134    I received a debit card on XX/XX/XXXX from Cit...\\n1135    I had a citibank checking account which I clos...\\n1137    It is impossible to get a line increase, the p...\\n1138    Citibank refuses to remove me as an authorized...\\n1143    I see multiple 30 & 60-days late marks which i...\\n1145    This account was opened fraudulent. I reported...\\n1146    I FILED A DISPUTE WITH CITI BANK IN XX/XX/2019...\\n1147    The bank locked me out of my account one week ...\\n1149    I have been trying for days to get in touch wi...\\n1152    I am XXXX : XXXX, XXXX A citi bank customers, ...\\n1156    My credit card was used as part of a fraudulen...\\n1161    Refer to previous complaint XXXX Once again to...\\n1164    Citibank has several credit card products that...\\n1166    negative items are scheduled to be deleted fro...\\n1167    On XX/XX/XXXX I received an email from XXXX XX...\\n1168    Please I need your assistance. I have been wor...\\n1169    On XX/XX/2020, I contacted Citi ( Best Buy VIS...\\n1171    This regarding dispute number XXXX. \\\\n\\\\nThe pu...\\n1174    I had a Best Buy Credit Card through CITI Bank...\\n1175    I have tried to contact Sears office, and they...\\n1176    Citibank Mastercard accepted my payments over ...\\n1177    Purchased hotel room from XXXX. XXXX has cease...\\n1179    I closed my account in the summer but Citi kee...\\n1180    In or around XX/XX/2019 a complaint was filed ...\\n1181    I\\'ve try to make payments on BestBuy.com to pr...\\n1182    AS A CONSUMER, I HAVE BEEN A VICTIM OF AN IDEN...\\n1184    Citibank credit card XX/XX/XXXX XXXX XXXX XXXX...\\n1186    Citibank has failed to pay a promised bonus ( ...\\n1190    In XX/XX/XXXX, I worked for XXXX XXXX : XXXX a...\\n1192    I feel that as a consumer I\\'m being treated un...\\n1193    CITICARDS IS REPORTING FALSE DATA TO XXXX & OT...\\n1194    On XX/XX/XXXX, XXXX  XXXX processed a refund i...\\n1195    OnXX/XX/2020 made a purchase online of {$500.0...\\n1196    I paid my balance in full with the credit card...\\n1199    On XX/XX/2020, I requested a credit limit incr...\\n1203    XXXX  is reporting to the XXXX XXXX  old erron...\\n1208    In XX/XX/2018 I had fraudulent charges on one ...\\n1210    This began when I contacted XXXX  XXXX XXXX in...\\n1216    I have previously contacted Bloomingdales cred...\\n1217    This corrupt bank still held my account open a...\\n1218    Hello, I am writing to complain that my Citi c...\\n1219    This complaint is in regards to CFPB complaint...\\n1222    On XX/XX/XXXX and XX/XX/XXXX I paid XXXX XXXX ...\\n1224    I\\'ve opened multiple Citibank XXXX ( XXXX XXXX...\\n1225    I\\'ve been robbed of my XXXX XXXX AAdvantage ai...\\n1228    Around XX/XX/2020, I noticed 2 charges on my c...\\n1229    In XX/XX/2019 I gave my credit card over the p...\\n1230    On XX/XX/XXXX I received an offer in the mail ...\\n1233    I am having problems when making payments and ...\\n1234    The company close the account without any lett...\\n1236    Citibank customer service kept contradicting t...\\n1239    In the later part of 2019, Citi Bank advertise...\\n1240    On XX/XX/2020, credit cards and one debit card...\\n1242    I owe this company ( citiretailservices.citiba...\\n1246    Between XX/XX/XXXX-XX/XX/XXXX my credit limit ...\\n1247    I noticed on XX/XX/XXXX there was a large char...\\n1248    I have filed a dispute in regards to the incor...\\n1250    Hi, I have two hard inquires on my credit repo...\\n1251    I was called by Citi bank yesterday letting me...\\n1257    I recently sent a request for validation not v...\\n1258    I paid some {$11000.00} thru my Citi XXXX XXXX...\\n1262    On XX/XX/XXXX, I attempted to contact Best Buy...\\n1263    Your company check my credit without my consen...\\n1264    XXXX is order # from best buy for {$580.00}. I...\\n1265    XXXX credit card switched their services to Ci...\\n1266    I never had a mortgage with Citibank. They are...\\n1270    I have attempted to settle and close this acco...\\n1272    I have filed a dispute in regards to the incor...\\n1275    I never opened this Citi Diamond Preferred car...\\n1278    On XX/XX/XXXX, I placed an order to redeem my ...\\n1279    Hello, This is a follow-up to an unauthorized ...\\n1282    I am still affected by covid 19 and I can not ...\\n1287    My bestbuy acct has charges that are not mine....\\n1289    According to XXXX XXXX my BB card was closed o...\\n1291    I have been on hold to with Shop Your Way Sear...\\n1293    On XX/XX/XXXX I received an email alert from m...\\n1294    I remember when the APR \\'s on my credit cards ...\\n1296    My wife attempted to make a minimum payment, @...\\n1297    I closed an account with Citibank and removed ...\\n1301    Macy \\'s # XXXX Ex Girlfriend had put me on the...\\n1302    I just submitted a complaint against American ...\\n1303    I hired a contractor to install an epoxy floor...\\n1304    My name is XXXX XXXX and on XX/XX/XXXX, and XX...\\n1305    For 3 years, I have had credit card accounts w...\\n1307    Dear CFPB : In a conversation with several sta...\\n1310    I closed my account due to poor service and a ...\\n1311    I recently changed phone numbers and updated m...\\n1312    My checking account was closed by Citibank wit...\\n1313    On XX/XX/2020, I was physically assaulted and ...\\n1314    I check my credit report with XXXX 7 days a we...\\n1315    I filed a complaint against on XX/XX/20. From ...\\n1317    In the Financial year 2019, I had Citi Double ...\\n1318    This bank is crazy their recovery office has b...\\n1319    In XX/XX/XXXX, I opened a 0 % Citibank credit ...\\n1320    On XX/XX/2020 I attempted to cancel my auto pa...\\n1321    I assume due in part to the Covid-19 Epidemic,...\\n1322    I am writing to dispute a billing error regard...\\n1324    Both me and my wife were laid off do to the Co...\\n1325    Around XX/XX/XXXX, I called CitiBank Costco Cr...\\n1326    I had a checking and savings account with Citi...\\n1327    I made several payments to my Best Buy card in...\\n1331    XX/XX/XXXX - Initiated a balance transfer. A {...\\n1333    Company operating as \" XXXX XXXX Firm \\'\\' at XX...\\n1334    Citibank Double Cash Credit Card did not help ...\\n1335    I XXXX XXXX am writing this complaint to repor...\\n1336    I\\'ve lost my income due to coronavirus pandemi...\\n1341    I have a account ( see attached documents ) fo...\\n1344    I opened a Citi Business Streamlined Checking ...\\n1347    Citibank had a {$600.00} promo offer If you op...\\n1350    I applied for a Macy \\'s card financed through ...\\n1351    I tried to redeem my Thank You points online b...\\n1352    A charge for {$43.00} was placed on my Citi ca...\\n1353    I\\'ve recently disputed about this sears credit...\\n1354    I have had a Citibank account for a little ove...\\n1355    To Whom It May Concern I am currently looking ...\\n1358    I have a credit card from CBNA, and I have alw...\\n1359    In XX/XX/2019 a charge of XXXX was made to my ...\\n1360    I purchased a flight XXXX in late XXXX of XXXX...\\n1361    Dear XXXX/ citi bank, Thank you for your reque...\\n1363    tricked me into using balance transfer checks....\\n1364    On XX/XX/XXXX, one of our promotions with Best...\\n1366    I am a cardholder of the Citibank double cash ...\\n1367    Fraudulent late fee that resulted from Citi Ca...\\n1368    On XX/XX/19, I made a purchase using my Brooks...\\n1371    Citibank deceptively and fraudulently sent me ...\\n1374    Fraudulent charges not taken off the card afte...\\n1376    On XX/XX/2019 Citibank converted a hold that t...\\n1379    Today is XX/XX/XXXX @ XXXX CST 1. XX/XX/XXXX c...\\n1380    Opened a new Citibank checking account and dep...\\n1382    An account I ve never opened at a Macy \\'s stor...\\n1383    I received a phone call from Macy \\'s saying so...\\n1384    On XX/XX/2020, Governor XXXX of California shu...\\n1386    I got a card from Citi that is advertised as a...\\n1390    I have an account with Macys/DSNB acct # XXXX ...\\n1393    Hello, I have a complaint to the bank of citi ...\\n1394    The following is a summary of my case : 1 ) XX...\\n1395    I have contacted CITI CARDS customer services ...\\n1396    My checking account is charged by Citibank fre...\\n1399    I made a complete payment for my credit card i...\\n1400    I contacted the company in XXXX XXXX  2019 to ...\\n1402    Opened a HOME DEPOT.COM XXXX credit card and o...\\n1404    I have been disputing these accounts for so lo...\\n1405    I have been disputing these accounts for so lo...\\n1406    On XXXX, I opened a \" High-Yield \\'\\' savings ac...\\n1407    Citi Diamond Preferred Account ending in XXXX ...\\n1410    Recently returned from a Cruise ( XXXX XXXX XX...\\n1412    I received two targeted promotion emails from ...\\n1416    My name is XXXX XXXX and I have a safety depoi...\\n1417    While reviewing my Best Buy statement I notice...\\n1418    Hello, I have an issue with Credit Protection ...\\n1419    I simply asked for a credit increase but first...\\n1420    Here is my record ( timeline of my case ) abou...\\n1421    My wife and I purchased a dishwasher in-store ...\\n1422    I have had an on-going dispute with Citi since...\\n1426    On XX/XX/XXXX I learn my Citibank credit card ...\\n1429    My card advertises certain protections includi...\\n1433    XX/XX/2020 this is my second call to Citi Card...\\n1434    on XX/XX/2020 I purchase an airline ticket for...\\n1435    I was going through the credit card online spe...\\n1441    I opened the account and set up automatic paym...\\n1442    Whom Im concern, The purpose of this letter is...\\n1444    I have a {$10000.00} Credit limit with Citi Co...\\n1448    Last week I went to Costco and when I was goin...\\n1454    I have been calling and submitting disputes be...\\n1456    I have two cards with Citibank - one is closed...\\n1457    I have filed a dispute in regards with the inc...\\n1458    I was never given a Home Depot card! I talked ...\\n1459    Hi CFPB and Citi Bank Compliant office, I have...\\n1461    While checking my personal credit report, whic...\\n1462    On XX/XX/2020, I received a refund in the amou...\\n1464    Bloomingdales sent me an email regarding a pur...\\n1467    Dear Sir or Madam, My ex spouse, XXXX XXXX use...\\n1468    I was using a Citibank or Citicards credit car...\\n1469    To whom it may concern : I have been trying to...\\n1470    We received fradulant purchases from Macys Cre...\\n1472    XX/XX/2020 there was a credit inquiry on my cr...\\n1475    Citi Bank issued a VISA Credit Card through Be...\\n1476    I had an issue with a company ( BEST BUY/CBNA ...\\n1477    This particular account situation that is late...\\n1479    I have a credit card opened with Citibank from...\\n1482    On XX/XX/20, I received my credit report and r...\\n1483    I paid off my card on XX/XX/20 before the end ...\\n1484    Due to COVID-19 The first call in XXXX -- do n...\\n1489    Im writing to request assistance with a late p...\\n1490    On XX/XX/XXXX i filed for chapt XXXX in RI. Al...\\n1491    MY XXXX  CREDIT REPORT SHOWS 3 hard inquiries ...\\n1492    I currently have only 1 credit card ( secured ...\\n1493    I reviewed the statement on a credit card. I\\'v...\\n1497    To Who it may Concern : Hello members of the C...\\n1498    We were out of town for my grand baby funeral ...\\n1499    Citibank allowed an unauthorized charge on a L...\\n1500    Dates : about XXXX XXXX. \\\\nAmounts : {$440.00}...\\n1502    In XX/XX/XXXX, I noted fraudulent charges on m...\\n1505    For several days, I have attempted to make a p...\\n1508    Citibank customer service representatives cont...\\n1510    Title : Citibank blames the victims of crimes ...\\n1517    Citi case ID : XXXX I purchased a new XXXX XXX...\\n1518    I belong to the XXXX, referred to attorney XXX...\\n1519    XX/XX/XXXX I call Citi Bank to close the accou...\\n1520    In XXXX, my Citi XXXX World Mastercard was sto...\\n1530    I have a checking, savings, and CD account wit...\\n1531    I sent them a letter to XXXX XXXX XXXX at XXXX...\\n1536    THD/CBNA - XXXX : I was not late on this accou...\\n1539    The company agreed to update the past due hist...\\n1544    Comes Forth Your Petitioner States that XXXX X...\\n1545    I have been a customer of Citibank of over 12 ...\\n1546    I registered for a conference because my emplo...\\n1547    Due to unexpected circumstances I missed my XX...\\n1548    My Home Depot Master Card was hacked and info ...\\n1549    I have a BestBuy Credit Card which has Citi Ba...\\n1551    Hello, I am submitting this request with the h...\\n1552    The day XX/XX/XXXX I trasnfered XXXX dollars t...\\n1553    I can see that your have a total cashback of {...\\n1555    Hello, in XXXX I was abroad in XXXX and took a...\\n1556    I made purchase, an item from XXXX furniture d...\\n1557    On XX/XX/XXXX, a thief used my credit card inf...\\n1558    484. Completed prompts in automated system to ...\\n1559    No contact from Citibank in over a month. Can ...\\n1560    I see multiple 30 & 60-days late marks which i...\\n1561    I last spoke with a supervisor ( XXXX ) on XXX...\\n1562    Good Afternoon BestBuy/Cbna Representatives, I...\\n1563    I received an email from Citi Card stating my ...\\n1564    This all started after I pulled my credit repo...\\n1565    XX/XX/2020-I purchased an electric stove/range...\\n1568    Finished all required activities but didn\\'t re...\\n1569    Since XX/XX/XXXX, I have been back and forth w...\\n1571    Applied for a credit card with Citi. Approved,...\\n1572    I bought some shoes from XXXX which turned out...\\n1573    I made a dispute with a charge with city and t...\\n1575    About 4 month ago I started searching for a ho...\\n1576    When you shop at Macy \\'s, they ask you to open...\\n1578    I opened up my account with Citi in XXXX, a fe...\\n1580    Hello, On XX/XX/2020 when the COVID-19 pandemi...\\n1581    I had planned to go to Georgia, from XX/XX/XXX...\\n1582    In XX/XX/2019, My brother in law went missing ...\\n1584    The credit card operator ( Citibank ) offered ...\\n1588    On XX/XX/XXXX & XX/XX/XXXX, there were a total...\\n1589    On XX/XX/XXXXand XX/XX/XXXXI receive an email ...\\n1590    I have opened up Citi Priority account with ad...\\n1591    I have been on the phone for over 2 hours toda...\\n1592    Citibank closed all my accounts without notice...\\n1593    BEING A VICITM OF AN IDENTITY THEFT REPORT MEA...\\n1594    For months now, since XXXX, I have been attemp...\\n1595    Im XXXX years old and my wife is XXXX. Weve ha...\\n1596    They fail to send statements like I have alway...\\n1597    Good morning, In the month of XXXX I logged in...\\n1599    I opened a high yield savings account on XXXX ...\\n1601    As of my statement dated XX/XX/2020 on my citi...\\n1602    Hello Citi Executive Response Unit, Please rec...\\n1604    On XX/XX/2020 citi bank closed my citi advanta...\\n1605    I had a high interest predatory loan of XXXX %...\\n1608    On my Mastercard statement with a due-date of ...\\n1610    I have automatic payments set up. For some rea...\\n1611    Hi I called in and I requested a credit line i...\\n1612    Citi bank had a promotion to open an new accou...\\n1613    I started calling the card service, Citi Bank ...\\n1614    Representative XXXX ( ID # XXXX ) provided me ...\\n1615    This is a follow up complaint Referring to my ...\\n1616    1. I have paid off two Citi cards on XX/XX/202...\\n1618    I was charged an ungodly amount of money for l...\\n1619    i have been with citi for years many accounts....\\n1620    I am still without refund for the taxes paid o...\\n1621    To Whom it May Concern : I was charged {$52.00...\\n1626    I tried to open a checking account online with...\\n1627    As of last year, around XXXX, then the last tw...\\n1629    Was served with a complaint from XXXX XXXX XXX...\\n1630    I closed this account on XXXX XXXX as this ban...\\n1632    This is Complaint Against Citi Bank has been l...\\n1633    NOTE- \\'\\' What type of problem? or \" What best ...\\n1636    I cancelled a prepaid trip with a travel agenc...\\n1637    Between XXXX XXXX  XXXX and XXXX XX/XX/XXXX, I...\\n1640    I have an account on my credit report that I D...\\n1641    Placed order on XX/XX/2020 on Macys.com under ...\\n1642    My XXXX credit report shows an alert : NEW ACC...\\n1644    On XX/XX/XXXX I was contacted by Citi Fraud De...\\n1646    I have been paying on a credit card debt for o...\\n1647    I opened this new XXXX XXXX  card issued thru ...\\n1648    Citi card turned on what was supposed to be an...\\n1653    I filed a dispute claim on XX/XX/2019 to Citi ...\\n1654    My full legal name is XXXX XXXX XXXX. Someone ...\\n1655    Citibank had over 2 months to respond and have...\\n1658    I am being charged late fees from citi bank Be...\\n1664    I filed a dispute with Citibank over a charge ...\\n1666    I have made numerous attempts to contact CitiB...\\n1672    On XX/XX/XXXX my family and I were supposed to...\\n1674    Citibank I am having trouble paying my bills w...\\n1677    I was furloughed due to the Covid-19 pandemic....\\n1678    On XX/XX/20 I received an email message lettin...\\n1679    I have tried the last month to contact Citiban...\\n1680    I HAVE 2 CITIBANK CREDIT CARDS AND FOR YEARS. ...\\n1681    I discovered unauthorized XXXX charges on my c...\\n1683    Dear Sir, I\\'m writing in response to your lett...\\n1684    CITI bank forcing paperless billing without co...\\n1685    I contacted Macys and negotiated a settlement ...\\n1686    i hate to use this to write you. its not reall...\\n1687    I have been trying to get help with both my Ci...\\n1689    - XX/XX/XXXX, We purchased items in XXXX. We f...\\n1690    I contacted XXXX  about CITI on XX/XX/XXXX, XX...\\n1691    On XX/XX/XXXX, I was contacted by the fraud or...\\n1692    Very bad customer Service and experience Every...\\n1695    I\\'m currently XXXX XXXX, so I wasn\\'t able to g...\\n1696    I made mistake ordering on computer with credi...\\n1697    Please refer to case number : XXXX for backgro...\\n1700    Subject : Disputed Fraudulent Transactions- Ci...\\n1701    We received a 2nd mortgage from CitiFinancial ...\\n1702    Have been a loyal good credit card customer wi...\\n1703    I already filed one complaint with the CFPB ( ...\\n1704    I made arrangements with Citi Bank to settle a...\\n1709    Citibank offered a promotion where they offere...\\n1710    I\\'ve had a Citibank credit card since XXXX. Te...\\n1712    HELLO MY NAME IS XXXX XXXX MY SOCIAL SECURITY ...\\n1714    Home Depot via Citibank is engaging in gender ...\\n1715    I am a protected veteran. I am diagnosed with ...\\n1716    I bought a travel package from XXXX on XX/XX/2...\\n1718    My citibank account has been showing that is h...\\n1720    Citibank XX/XX/XXXX : - check was deposited in...\\n1721    I telephoned Citi Cards ( Citibank VISA ) on X...\\n1725    Citi bank, collections, harassment. \\\\nI have b...\\n1726    I opened a new Citibank account, and deposited...\\n1727    I XXXX XXXX just finished paying off old credi...\\n1729    Hello my name MrXXXX XXXX XXXX, im reaching ou...\\n1730    I have a Best Buy and a Home  Depot Card throu...\\n1731    CIti Credit Card Dispute XXXX On XX/XX/2019 I ...\\n1732    I was shocked when I reviewed my credit report...\\n1735    I have had my Citi XXXX  XXXX Card for 3-4 yea...\\n1740    Dear Sir / Madam, On Friday XX/XX/XXXX I learn...\\n1741    applied for a citi bank card in XX/XX/2019 sti...\\n1746    i called citi bank collection dept today XXXX ...\\n1748    I opened an accelerated Savings Account with C...\\n1749    On XX/XX/2019 I booked a hotel using a travel ...\\n1750    Call into Citi card in XX/XX/2020 about deferr...\\n1756    On XX/XX/20 & XX/XX/20 I attempted to contact ...\\n1757    On XX/XX/2020, I received an email from XXXX X...\\n1758    I contacted support to close my checking/savin...\\n1761    I am writing in response to the enclosed lette...\\n1764    To whom it may concern I am writing to formall...\\n1765    The company ( CITIBANK ) has responded to my q...\\n1774    A Citibank associate, XXXX XXXX, aggressively ...\\n1776    In XXXX of XXXX, I reached out to Citibank and...\\n1777    On XX/XX/2020, Citi sent me a letter saying th...\\n1779    THIS IS NOT A DUPLICATE-Citibank is reporting ...\\n1780    To whom it may concern : I have a Citi Double ...\\n1783    On XX/XX/2019, I clicked on the \" XXXX XXXX Su...\\n1784    I always try to pay my Goodyear credit card n ...\\n1786    Citi Bank closed my credit card without notice...\\n1787    XX/XX/XXXX my card ending in XXXX was stolen. ...\\n1788    On XX/XX/2020 I called Citibank requesting tha...\\n1791    In XX/XX/XXXX someone fraudulently used my Cit...\\n1792    I received a letter from Department Stores Nat...\\n1793    I contacted my Citi Credit Cards on XX/XX/2020...\\n1794    On XX/XX/XXXX, I contacted Citi card to report...\\n1795    shop your way credit card-Citi bank has seriou...\\n1796    I was checking my credit report, and discovere...\\n1797    My XX/XX/XXXX statement for {$4100.00} was due...\\n1799    I have a Macya credit card ; it is issued by D...\\n1800    This Macy \\'s Account was opened XX/XX/2013 And...\\n1801    This is actually not a complaint. I am looking...\\n1802    i made was in line at home depot on XXXX in XX...\\n1803    I tried to make a purchase at Best Buy on XXXX...\\n1814    XX/XX/2019 XXXX attempted to charge my card en...\\n1815    I applied the Citi XXXX+ XXXX credit card on X...\\n1816    I have two main complaints regarding Home Depo...\\n1817    I was notified on XX/XX/XXXX that my account w...\\n1819    On XX/XX/XXXX I called Best Buy Citi Credit Ca...\\n1820    In XX/XX/XXXX, I made full payment of the bala...\\n1822    To whom it may concern, I have a Macy \\'s Credi...\\n1825    I was caught in XXXX during the outbreak of th...\\n1828    I signed up for the {$400.00} bonus for $ XXXX...\\n1830    Each month for the past two months on the day ...\\n1831    This is a continuous issue with Citibank. On X...\\n1834    This is regarding the following billing disput...\\n1836    In reference to complain XXXX-XXXX  On XX/XX/X...\\n1838    I bought two airline tickets amounting to {$12...\\n1839    I used my Citi DoubleCash credit card to purch...\\n1843    My Best Buy card was never not in my possessio...\\n1844    Our grandmother passed away in XXXX, and my hu...\\n1848    Please I need your help.I already work with Ma...\\n1850    Citicards refused to issue a refund of the poi...\\n1852    I am set up for a two-installment, automatic p...\\n1854    Multiple charges were made on two different cr...\\n1855    On XX/XX/XXXX I Received a return check fee of...\\n1856    I have 2 credit card account with CITI. The li...\\n1858    My name is XXXX XXXX Citi premier card # XXXX ...\\n1862    A purchase was made on a Macy \\'s credit card a...\\n1869    I have received several calls from XXXX regard...\\n1870    Citibank recently closed my account, because t...\\n1871    On XX/XX/XXXX, I opened a Citibank account, I ...\\n1872    In XX/XX/2018, I contacted Citi to request a \"...\\n1873    XXXX XXXX dba CEO of Citi Bank obtained and us...\\n1874    Citibank credit card Dispute XXXX CFPB Case # ...\\n1875    I opened a citi bank account package on XX/XX/...\\n1876    I went into my debt relief program in XX/XX/20...\\n1877    I have been attempting to deal with Macy \\'s wi...\\n1878    I used Citi Visa ( branded COSTCO ) to make a ...\\n1879    Hello CFPB! Can you please forward the folllow...\\n1880    I INFORMED MACY \\'S THAT I AM UNEMPLOYED AND AC...\\n1881    On XX/XX/19, purchased a dining room table in ...\\n1882    Over the past 2 years I have earned a signific...\\n1883    I have documentation promising I would receive...\\n1884    On XX/XX/2020 a charge of XXXX from XXXX XXXX ...\\n1885    MACYS HAS BEEN REPORTED ON MY CREDIT REPORT. B...\\n1886    Citi Double Cash Card - Denial of promotional ...\\n1887    Citibank has taken more than 90 days to proces...\\n1888    On XX/XX/XXXX, I used the Citibank online app ...\\n1890    I was rejected for a credit card with Citibank...\\n1898    I have had several ongoing issues with Citiban...\\n1899    Opened the Citi Thank You Premier credit card ...\\n1900    I was a victim of identity theft. During the c...\\n1901    Citibank reduced the limit on my credit cards,...\\n1905    My personal information was used without my kn...\\n1906    I deposited a check payable to two parties, bo...\\n1907    I applied for a Home Depot credit card about a...\\n1908    I recorded the conversation of chat between ci...\\n1912    My small business account was frozen by Citiba...\\n1913    Fax # XXXX ATTN : Debit Card XXXX Re : XXXX XX...\\n1916    Tried several times and put on hold minimum of...\\n1918    XX/XX/2020 m- Fraudulent lending or issuance o...\\n1920    My complaint is in regards to my Citi Double C...\\n1925    The attorney has engaged is unfair and decepti...\\n1926    On XX/XX/2020, I opened a new account with Cit...\\n1927    Home Depot Citi Bank They are not helping abou...\\n1929    I have a XXXX  Travel Card through Citibank, a...\\n1931    Several charges were made on a card that I do ...\\n1932    Good morning. \\\\n\\\\nThe reason for this letter i...\\n1934    ON XX/XX/2020 I get a email from Citibank in w...\\n1935    I previously applied for Citi Aadvantage Plati...\\n1946    I received a Citi rewards card in the mail tha...\\n1949    Citibank closed my credit card account. When t...\\n1950    This is a further issue with regard to complai...\\n1955    I have a credit card from BEST BUY/CBNA, and I...\\n1956    On XX/XX/20 I reviewed a copy of my XXXX credi...\\n1957    This is a follow up on my previous complaint o...\\n1961    I had a 2nd mortgage loan with CITI Mortgage (...\\n1963    Purchased a home and bought a home warranty pl...\\n1964    Starting in XX/XX/XXXX, I began disputing a XX...\\n1966    I used my Citibank MasterCard to purchase a ti...\\n1968    XXXX XXXX XXXX is showing and Inquiry on my cr...\\n1969    Im a victim of identity theft someone got my B...\\n1970    My account has been in a hardship payment prog...\\n1971    I ordered a washing machine and the matching c...\\n1972    You will see the Fraud Verification Unit of Be...\\n1973    I made payments on my Citi credit card on XX/X...\\n1974    This is regarding improper handling of charge-...\\n1975    It is a strange threat they made, vaguely that...\\n1978    Hi, I opened a dispute with Citibank credit ca...\\n1979    I received a notice on XX/XX/2020 that my cred...\\n1980    Hi, CFPB I have a problem and believe that my ...\\n1982    I AM VICTOM OF AN IDENTITY THEFT AN THE THE FO...\\n1983    This bank is crazy has my XXXX account as dece...\\n1985    Let me provide you the Address and Telephone o...\\n1989    I switched bank, so on XX/XX/XXXX. I logged in...\\n1992    Both income earners in our family have lost th...\\n1993    I have a credit due on my credit card balance ...\\n1997    Hi, I am XXXX XXXX from XXXX, Arizona. I want ...\\n2004    On XX/XX/2019 I contacted XXXX again after mul...\\n2007    I am still affected by XXXX XXXX, I can not ge...\\n2008    I have a complaint against Best Buy /CBNA. Ive...\\n2011    On the XXXX of XXXX, 2020, at XXXX, I spoke wi...\\n2015    I had this Best Buy card a while ago by best b...\\n2016    In reference to prior complaint # XXXX-XXXX  C...\\n2022    I had the Citi American Airlines AAdvantage Ex...\\n2023    I currently have a personal loan with Citibank...\\n2024    On XX/XX/XXXX, I received a billing statement ...\\n2025    I signed up for this Citi AAdvantage card on X...\\n2031    Hi, My name is XXXX XXXX. \\\\n\\\\nI applied for co...\\n2033    I lost my wallet or maybe it was stolen after ...\\n2034    We have a Home Depot Consumer credit card thro...\\n2036    XX/XX/XXXX I called Citibank North America ( C...\\n2038    On XX/XX/XXXX of XXXX I paid {$310.00} I was t...\\n2045    XX/XX/XXXX I first called Citi.com as I was no...\\n2048    Good evening, i like to make a complaint to Be...\\n2049    On XX/XX/2020, I received two separate emails ...\\n2050    XX/XX/XXXX I used to charge my Best Buy to pur...\\n2054    This is in reply to Citicard letter dated XX/X...\\n2055    My business had a Home Depot Contractors accou...\\n2056    My credit cards were wrongfully terminated aro...\\n2057    Situation : I commissioned into the XXXX in XX...\\n2059    Yesterday XX/XX/XXXX, I received a free copy o...\\n2060    CITI CARDS/CITI BANK XX/XX/XXXX XXXX XX/XX/XXX...\\n2062    XX/XX/XXXX - I took my vehicle to XXXX XXXX / ...\\n2063    About 2 years ago I lost my income, and my mot...\\n2065    Made two jewelry watch purchases online at Blo...\\n2066    In XXXX of 2019, I received a promotional offe...\\n2069    I was charged {$7500.00} on XX/XX/2020 by XXXX...\\n2071    1. A Citibank ( South Dakota ) N.A. charge off...\\n2072    I had 2 credit cards closed by Citi on XX/XX/2...\\n2073    I opened a checking and savings account with C...\\n2075    I have a credit card with Citi Corp through Co...\\n2076    On XX/XX/XXXX Citi Card alerted me of illegal ...\\n2078    I\\'ve recently checked my credit report with XX...\\n2079    Intermittently Citigroups Citicards on-line We...\\n2083    CitiBank - case Reference number XXXX I am wri...\\n2084    XXXX  XXXX XXXX, CitiBank and XXXX opened acco...\\n2085    According to my credit report on XXXX, based o...\\n2086    I received a check from XXXX XXXX XXXX in the ...\\n2087    My problem arises from 3 telephone payments I ...\\n2089    I was shocked when I reviewed my credit report...\\n2091    I have had a Citi/Costco card since XXXX. \\\\nI ...\\n2093    I signed up for a Citibank AAadvantage executi...\\n2094    On XX/XX/XXXX I discovered that my Citibank de...\\n2095    On Saturday XX/XX/2020 I downloaded the citi b...\\n2097    Due to the corona virus and stay at home order...\\n2099    On XX/XX/XXXX there were fraudulent charges ma...\\n2101    To whom it may concern, I have a Costco Citi C...\\n2104    The amount in dispute is {$40.00} in unauthori...\\n2107    My wife and I have a joint account with CITI B...\\n2108    On my credit file Macys has been reporting an ...\\n2114    I am having trouble with Citibank. Due to the ...\\n2116    The events of the night of XX/XX/XXXX and morn...\\n2117    Citi Cards has been charging me a payment safe...\\n2118    I applied for a Macy \\'s Credit card since I wo...\\n2119    Hello, I am writing to file a claim against Ci...\\n2120    I\\'ve contacted CitiCard regarding my XXXX  cre...\\n2122    Ive carried several Citibank credit cards for ...\\n2123    XX/XX/2020 purchased tires at NTB and opened a...\\n2124    Im a victim of identity theft someone got my B...\\n2125    Hello Consumer Financial Protection Bureau, I ...\\n2126    XX/XX/XXXX I was a victim of Fraud in which a ...\\n2127    I signed up for a Best Buy credit card ( throu...\\n2129    I received a discharge for my CH XXXX Bankrupt...\\n2130    I purchased my vacation from XXXX on XXXX2019 ...\\n2134    I am writing to request your help. MACYS/DSNB ...\\n2135    We previously disputed with Citi Business AAdv...\\n2137    Dear Sir/Madam, The basis of this complaint be...\\n2138    I booked a vacation back in XX/XX/2019 with XX...\\n2139    While checking my personal credit report, whic...\\n2140    I have a negative balance of - {$2300.00} on m...\\n2141    I had a XXXX XXXX credit card. That credit car...\\n2143    Citicards website is broken and does not displ...\\n2149    On XX/XX/XXXX, I paid off my Citi Simplicity C...\\n2153    I have made repeated attempts with Macys Credi...\\n2156    I asked CITI in XXXX to stop automatic payment...\\n2157    We got the Citi Premier Card, which had a prom...\\n2158    I check into my credit report. It show a close...\\n2161    On XX/XX/2020 a Credit Limit Increase was requ...\\n2164    Booked trip to Hawaii in XX/XX/XXXX for XX/XX/...\\n2166    Citi Cards state that they have a Identify The...\\n2168    Date : XX/XX/2020 Amount : {$70.00} I was scam...\\n2169    On XXXX XXXX I opened a dispute with Citibank ...\\n2170    Good afternoon, I have an AAdvantage credit ca...\\n2171    I received targeted Citi advertisement for ope...\\n2172    I have an account with Home Depot. I had a rev...\\n2177    Closed credit card with Citicard in XXXX, XXXX...\\n2180    ( 1 ) Citibank is NOT fulfilling the terms of ...\\n2184    Dear Mr. President may this letter find you an...\\n2188    I\\'m a Military XXXX XXXX. I opened a BestBuy/ ...\\n2190    I was shocked when I reviewed my credit report...\\n2191    I opened a home depot cc on XX/XX/XXXX. It is ...\\n2196    I had opened an account with Citibank with Ms ...\\n2199    I am still being affected by covid 19 and can ...\\n2203    A credit card company has denied my applicatio...\\n2206    XX/XX/20 - PAYMENT OF {$7200.00} MAILED UPS TR...\\n2208    On XX/XX/XXXX, Citi closed my accounts without...\\n2210    To : The Consumer Financial Protection Bureau,...\\n2212    My Best Buy Citibank credit card is charging m...\\n2213    I have a Macys credit card, purchased an item ...\\n2217    Citi customer stole {$2800.00} of XXXX cashier...\\n2218    I have not received any confirmation on how yo...\\n2220    According to my accounting software and a revi...\\n2221    On XX/XX/XXXX of 2020, I purchased a vacation ...\\n2223    I am writing regarding the problems I am havin...\\n2229    I opened a checking and savings account packag...\\n2232    During this COVID pandemic, I got distracted b...\\n2233    The basis of this complaint is that Citi credi...\\n2236    - XX/XX/2020 I had my credit pulled by a lende...\\n2239    I was approved for XXXX XXXX XXXX  Credit Card...\\n2240    Hello! This situation with Citicards started e...\\n2242    COMPLAINT FOR : Citibank Na, XXXX XXXX  XXXX, ...\\n2243    We were out of town for my grand baby funeral....\\n2244    In XX/XX/16 there were a total of XXXX unautho...\\n2245    On XX/XX/19 my Sears MasterCard was charged {$...\\n2247    In Mid-XXXX, 2020, I mailed a payment to Citib...\\n2250    Ive had this account since XX/XX/2018 with a f...\\n2255    On or around XX/XX/2020 I initiated a balance ...\\n2256    XXXX : CITICARD XXXX ELITE PLATINUM SELECT XXX...\\n2257    I closed my savings account with citibank ( ac...\\n2258    This is all started back in XXXX of 2019, when...\\n2267    XX/XX/XXXX, I make a non-cancellable booking f...\\n2269    My Citibank Credit Card has {$960.00} to be re...\\n2276    AS A CONSUMER, I HAVE TRIED NUMEROUS TIMES TO ...\\n2277    I was late on my credit card payment ( {$60.00...\\n2280    Citibank Rewards Made a payment XX/XX/2020 thr...\\n2282    I have been trying to get ahold of the company...\\n2285    Sir/Ma\\'am, My wife and I have two credit card ...\\n2286    CitiCard has recently implemented a new policy...\\n2290    To whom it may concern, supervisors and those ...\\n2291    In response to a marketing offer from Citibank...\\n2294    In XXXX and XXXX of XXXX, unauthorized charges...\\n2298    In XXXX of XXXX I started receiving a bill fro...\\n2299    Suspicious withdrawals were made from my check...\\n2300    I contested a charge with Citi Cards. They sen...\\n2301    I am excising my rights under and pursuant to ...\\n2303    I received an email at XXXX CT on XX/XX/XXXX t...\\n2306    I have Aadvantage CC from Citibank for which w...\\n2309    Best Buy Credit card through Citibank. Card ha...\\n2311    UPDATE TO A COMPLAINT ORIGINALLY SENT BY ME TO...\\n2315    These were unauthorized charges to my Citibank...\\n2316    I have filed a dispute claim with Citi bank cr...\\n2317    I opened a Citi bank package with {$400.00} + ...\\n2318    I have been getting charged a monthly interest...\\n2320    I am trying to close an old account. As I don\\'...\\n2324    In the last month my credit was pulled so that...\\n2325    This account was paid in full so i don\\'t know ...\\n2326    I had a cancellation with XXXX for 4 trips ; X...\\n2327    XX/XX/XXXX-XX/XX/XXXX My Citibank card was rep...\\n2328    I requested a credit line increase with CitiBa...\\n2329    Macy \\'s store credit card. Charging me excessi...\\n2333    Was victim to fraud via XXXX. Made complaint o...\\n2334    Filed dispute with Citi Costco credit card whi...\\n2336    I already have two XXXX XXXX branded cards so ...\\n2338    I have a complaint against Citibank and Macys....\\n2339    My Best buy credit card was stolen in XX/XX/20...\\n2340    I had a Citi Diamond Preferred credit card tha...\\n2341    I contacted XXXX XXXX at Citibank because I wa...\\n2343    XXXX XXXX FAILED TO FURISH 1099-C DENT CANCELL...\\n2345    Citibank has already responded to my previous ...\\n2346    I had applied for Balance Transfer with my XXX...\\n2347    CITIBANK NIGHTMARE I\\'m in Hawaii and Citibank ...\\n2348    Opened credit account with ExxonMobil in XX/XX...\\n2351    HOME MAIL NEWS FINANCE SPORTS ENTERTAINMENT LI...\\n2353    I have had a credit card with Best Buy ( Citib...\\n2355    I have a Citi premier credit card, suddenly i ...\\n2357    I had a credit card with Citibank that I was n...\\n2358    Good Afternoon, I purchased shoes in Macys in ...\\n2359    Citibank account was opened in XX/XX/1999. The...\\n2360    On XX/XX/XXXX, I applied for a PPP loan for se...\\n2361    I have reported this same reoccurring issue of...\\n2363    CFPB Case # XXXX Citi XXXX XXXX - CreditCard T...\\n2366    Hello, I have filed a complaint previously abo...\\n2367    Concerns my Macy Card, through the Department ...\\n2370    I brought up this exact concern to the Home de...\\n2372    I submitted my fraud complaint in reference to...\\n2375    I have been a Citi credit card member for many...\\n2376    I have been trying since XX/XX/XXXX to contact...\\n2377    I made a charge on XX/XX/XXXX for {$1100.00} f...\\n2378    On XX/XX/XXXX ( before my payment due date ) I...\\n2379    My problem at this time is that I was mailed a...\\n2380    - On or about XX/XX/XXXX, I called about my Ci...\\n2382    During the course of approximately one year ( ...\\n2384    Years Citibank said they couldn\\'t find my acco...\\n2386    I opened an online banking account with Citi o...\\n2392    On XX/XX/XXXX, while working on my taxes and g...\\n2394    Citibank closed my credit card accounts ( 2 to...\\n2398    I purchased an airplane ticket from XXXX XXXX ...\\n2399    In XXXX of 2019, Macy \\'s put a late payment on...\\n2401    This particular account situation that is late...\\n2403    On XX/XX/2020 I booked a vacation with my Citi...\\n2405    I applied for citi bank credit cardXXXX \" Citi...\\n2409    On XX/XX/2020, I used by Citibank mobile appli...\\n2414    I paid off my promotional deferred interest ba...\\n2415    On XX/XX/2020 at XXXX XXXX  I sent written com...\\n2416    According to the recently passed CARES Act, le...\\n2417    Deposit today at Citibank personal check form ...\\n2419    I opened a new City Priority account on XX/XX/...\\n2420    I have had a checking account with Citi Bank f...\\n2423    I am Citi Card member since XXXX. I am a fan H...\\n2424    In XX/XX/2029 I Ourchased clothing from a comp...\\n2425    About 2 years ago I lost my income, and my mot...\\n2426    By end of last year, i noticed an inquery on m...\\n2427    This kind of account is placed as a charged of...\\n2428    This document is for fraudulent accounts opene...\\n2429    Early this year on XX/XX/2020 I went to XXXX X...\\n2434    In XX/XX/2020 I had to get a loaner vehicle fr...\\n2436    Since beginning of COvID-19, Citi bank decided...\\n2439    I was attempting to make several credit card p...\\n2440    The Home Depot is always sending me advertisem...\\n2441    This is regarding dispute number XXXX. \\\\n\\\\nThe...\\n2442    XX/XX/2020. XXXX XXXX disputed data on my XXXX...\\n2445    I applied for a Best Buy card to get financing...\\n2446    Due to Covid 19 we are experiencing financial ...\\n2448    Hi I have raised two complaints with CFPB rela...\\n2451    I, XXXX XXXX have tried to protect my rights u...\\n2453    I am writing to file a complaint against Citib...\\n2455    I opened a Citibank account with a {$400.00} p...\\n2458    I keep telling CITI bank cards that account is...\\n2459    In mid-XXXX a fraudulent charge appeared on my...\\n2464    On XX/XX/XXXX, I submitted 2 disputes, relativ...\\n2467    In short, I went to a auto tint shop to have m...\\n2468    I opened a 1 year XXXX ( 2.5 % interest rate )...\\n2471    ON XX/XX/2019, Citibank closed all 3 of my cre...\\n2472    This issues has been ongoing over the past yea...\\n2473    I received an email stating I made a purchase ...\\n2474    On XX/XX/2020 I attempted to open a checking a...\\n2476    I opened a Citibank Priority account in XXXX i...\\n2477    This is regarding dispute numbers XXXX and XXX...\\n2479    Closed my account during this time of uncertai...\\n2480    My monthly gym payment to XXXX got charged twi...\\n2483    XX/XX/XXXX : I opened a Citibank Account Packa...\\n2484    The account was closed in 2014 with a {$0.00} ...\\n2488    In XXXX of 2019 Citibank offered to open a new...\\n2490    Some time in XXXX-XXXX, Citibank opened a chec...\\n2491    Citibank closed my Citi Diamond Preferred cred...\\n2495    I had financial hardship, and contacted XXXX X...\\n2496    I checked my credit report, and saw an account...\\n2497    I had a {$6800.00} limit on my Citibank card. ...\\n2499    I cancelled a travel reservation through XXXX....\\n2507    XXXX XXXX who opened my account did so without...\\n2509    Both my wife and I have opened new accounts, t...\\n2511    On downloading the entire transaction history ...\\n2512    I was shocked when I reviewed my credit report...\\n2513    I noticed by logging onto the Citibank Home De...\\n2515    XXXX XXXX is a federally registered service ma...\\n2516    I have a Citi Aadvantage Mileup card. I have h...\\n2517    I have received multiple Citibank AAdvantage c...\\n2521    I settled this account on XX/XX/2020 for {$200...\\n2522    Citibank was running a promotion for their var...\\n2523    Citibank is intentionally delaying posting of ...\\n2525    I had requested citi bank accommodate my XXXX....\\n2527    communicated with the company XX/XX/19 - XX/XX...\\n2528    XX/XX/2020 : Received email notification of ac...\\n2529    We have received multiple phone calls from a X...\\n2530    purchase appliances in home depot through home...\\n2531    There were fraudulent inquires done with my id...\\n2532    When i was in vacation ( XX/XX/2019 to XX/XX/2...\\n2535    These are charges that were fraudulent and cit...\\n2538    On XX/XX/XXXX I received a debt collection not...\\n2541    I did donate {$300.00} to an organization and ...\\n2543    Today is XX/XX/XXXX. I have been contacting Ci...\\n2544    COMPLAINT FOR : Citibank Na, XXXX XXXX XXXX, X...\\n2546    I noticed my Best Buy card balance increased, ...\\n2547    I have a Home Depot credit card with {$20000.0...\\n2549    On XX/XX/XXXX and XXXX of XXXX my Citi Master ...\\n2552    XXXX, XXXX, & XXXX  IS IN VIOLATION OF THE FCR...\\n2553    These problems has been continuing for several...\\n2555    I used my Citibank Thank You Rewards card to p...\\n2556    Through the months of XX/XX/XXXX through XX/XX...\\n2557    On my XXXX there is a hard inquiry for XXXX/cb...\\n2558    They froze my bank account without any notific...\\n2559    Hi, I was doing basement project at my home an...\\n2560    I opened my CITI Priority Savings and Checking...\\n2561    On XX/XX/XXXX I checked my account balance inf...\\n2562    XX/XX/2020 - placed order to XXXX  XXXX - {$23...\\n2564    Citibank lowered the credit line on my Masterc...\\n2566    Hello, XXXX XXXX has confiscated the miles I e...\\n2567    On XX/XX/XXXX, I noticed a fraudulent ACH tran...\\n2568    XX/XX/2020 RE : Citibank, N.A., Security Servi...\\n2571    On XX/XX/2019 I was charged {$230.00} in error...\\n2576    I opened a new checking account in XX/XX/XXXX....\\n2579    I was charged by Best Buy for Enhanced Debt Pr...\\n2582    With an XXXX credit score, I had a Citi Diamon...\\n2583    I have a credit balance on my Citi Double Cash...\\n2584    I received a letter form XXXX XXXX XXXX, they ...\\n2586    More than a month has passed and The Home Depo...\\n2588    On XX/XX/1019 I booked a cruise through XXXX. ...\\n2592    On XX/XX/ 2020 a hard inquiry appeared on my X...\\n2594    CitBank sent me a letter, dated XX/XX/2020, no...\\n2595    I was charged {$120.00} on XX/XX/20 by XXXX XX...\\n2598    XX/XX/XXXX, I opened my dispute for {$1300.00}...\\n2600    2 charges on card i did not make. closed the c...\\n2604    I purchased a tour with my CITI card in XX/XX/...\\n2605    Due to different accounts with different inter...\\n2606    RECEIVED NO NOTICE OF PAST DUE AMOUNT ON ANY A...\\n2611    images uc* refer to the unauthorized XXXX char...\\n2612    I made a payment though BillPay on XX/XX/2020 ...\\n2613    I filed a claims with XXXX XXXX and CITI XXXX ...\\n2614    XXXX XXXX XXXX XXXX XXXX citi diamond secured ...\\n2618    I am fairly a happy customer with Citi Bank wi...\\n2621    Citi once again you failed to indicate on the ...\\n2623    Citi closed my credit card account as of XX/XX...\\n2628    On XX/XX/2020 I settled with Citibank over a c...\\n2629    I have never had a missed payment before on my...\\n2630    On XX/XX/XXXX I contacted Citibank via chat to...\\n2631    The issue relates to XXXX improper and unjusti...\\n2633    Citibank is the most unprofessional Bank covid...\\n2634    I filed against this company a couple weeks ag...\\n2635    There was a fraudulent debit on my checking ac...\\n2636    I made a large purchase from XXXX XXXX on XX/X...\\n2638    I received my bill in the mail, and noticed I ...\\n2641    My Citi Diamond Preferred Card offered a featu...\\n2642    On XX/XX/2020 I checked my Citi Bank accounts ...\\n2646    On or about XX/XX/2019, Citibank, N, A., via X...\\n2647    On XX/XX/XXXX and XX/XX/XXXX, my wifes credit ...\\n2648    In XX/XX/XXXX, I noticed that there were 4 una...\\n2652    I tried applying for a credit card On XXXX and...\\n2656    On XX/XX/20 I was prompted to update personal ...\\n2658    On XX/XX/XXXX, I placed an order with XXXX in ...\\n2659    Best Buy XXXX XXXX/Citibank credit services ha...\\n2662    Hello, I recently signed up for a new Citi Pre...\\n2666    I closed my account with Citi card in 2017 by ...\\n2669    Citibank is reporting a fraudulent credit card...\\n2670    1. On XX/XX/XXXX, my husband and I visited Cit...\\n2671    In XX/XX/2016 I got my monthly bill from my Ci...\\n2673    In the beginning of XXXX my wife and I opened ...\\n2674    I mailed in a dispute with Citibank in XXXX of...\\n2675    In late XXXX, 2020 I purchased a personal comp...\\n2677    I pay all the monthly fees without being late....\\n2679    I received an alert from Citi Bank Credit Card...\\n2680    I changed bank accounts and when I put in my n...\\n2688    I withdrew my dispute case of Citi credit card...\\n2689    I have contacted the creditor/company many tim...\\n2690    XX/XX/XXXX at approximately XXXX I reached out...\\n2691    This is my second time to contact the CFPB ove...\\n2692    I disputed this charge in XXXX due to fraudule...\\n2694    I was to receive an offer I accepted of XXXX p...\\n2696    I was shocked when I reviewed my credit report...\\n2697    The following letter was written and sent on o...\\n2700    For 3 years, I have had credit card accounts w...\\n2701    I did not authorize or have any knowledge of s...\\n2706    I paid my card off in full by my due date but ...\\n2707    Citi bank closed my account for money orders i...\\n2708    Ref : Citibank MC Account # XXXX XXXX I need t...\\n2709    This is regarding billing dispute number XXXX....\\n2710    Despite submitting factual materials, Citi sup...\\n2712    I opened my account and transferred {$15000.00...\\n2715    Citi has sent my home equity line to XXXX for ...\\n2718    I have filed a dispute in regards to the incor...\\n2724    They gave me a foreberance for XXXX but not fo...\\n2726    I have been going back and forth with the cred...\\n2727    Macys APP failed to process a scheduled paymen...\\n2728    I signed up for a checking account at https : ...\\n2730    I was charged a very high-interest fee ( appro...\\n2733    I am seeking a charge dispute approval in the ...\\n2734    1. Home depot merchandise was not properly del...\\n2735    Citi Bank ran a promotion that if I deposited ...\\n2736    I purchased {$100.00} from XXXX XXXX XXXX XXXX...\\n2737    This is in regards to a ANNUAL FEE for a Citi ...\\n2738    For the last few billing cycles I\\'ve been payi...\\n2739    I received an offer to apply for an 18 month i...\\n2741    I opened Citi Priority checking and savings ac...\\n2746    On XX/XX/XXXX i made a XXXX payment to my Citi...\\n2747    I have\\\\n\\\\na Sears Credit card. The interest ra...\\n2748    Re : Acct. # XXXX Contacted Sears/CBNA about a...\\n2749    I opened a Citi Savings and Checking account o...\\n2750    I have been a Citicard member for 31 years and...\\n2754    I have been attempting to resolve this issue f...\\n2755    This is regarding the following disputes with ...\\n2757    My complaint is regarding my Citi bank XXXX XX...\\n2758    In XXXX, I applied for and received a Citibank...\\n2759    Citibank is charging me {$590.00} for a servic...\\n2760    I AM VICTIM OF AN IDENTITY HTEFT REPORT AND I ...\\n2761    On XX/XX/XXXX I paid my credit card off in the...\\n2762    CITI BANK TOOK {$100.00} DOLLARS AWAY FROM ME ...\\n2763    I have been trying to get an issue resolved wi...\\n2765    I\\'m filing a compliant due to the Federal Reg ...\\n2768    On XX/XX/XXXX, I was alerted that someone had ...\\n2769    Repetitive and harassing phone calls throughou...\\n2771    This is a request as authorized by the FCRA 61...\\n2775    Citicard is charging me upwards of 24 % on a c...\\n2776    the written and signed agreement is for {$26.0...\\n2777    This is regarding dispute number XXXX. \\\\n\\\\nBec...\\n2778    I have been contacted for 3 days in a row by a...\\n2779    Back in XXXX I took advantage of a balance tra...\\n2780    I received a notice from XXXX that I had an un...\\n2781    I reported fraud charges on my card and Macys ...\\n2782    I had XXXX in charges occur on this shell.CBNA...\\n2784    Greetings CFPB : This message is about a close...\\n2785    Ordered women \\'s XXXX XXXX XXXX sneakers on XX...\\n2786    I applied for and was approved for a 0 % balan...\\n2787    On XX/XX/XXXX my credit card was closed withou...\\n2788    I keep getting emails for increasing my reward...\\n2789    I had contacted Citi Bank on XX/XX/2020 to clo...\\n2790    Citibank sent my payment information via unsec...\\n2792    I ordered some clothing online, two purchases ...\\n2793    A merchant refunded my purchase back to Citi C...\\n2794    XXXX XXXX closed my frequent flyer account sta...\\n2795    This particular account situation that is late...\\n2798    On XX/XX/2020 I placed an online order for a r...\\n2799    Citi bank has charged me a XXXX dollar fee bec...\\n2803    Im a victim of identity theft someone got my H...\\n2804    I need a payment waiver. I am still affected b...\\n2806    Today after reading terms and conditions and d...\\n2809    macy \\'s credit card {$3.00} that was paid XX/X...\\n2813    Reference # XXXX I applied in XXXX for the Hom...\\n2814    Opened a Citi Bank Account on XX/XX/2020 under...\\n2816    For over 20 years I have had a Best Buy store ...\\n2819    On XX/XX/XXXX at XXXX EST I called Citi and tr...\\n2820    I had many fraudulent charged in XXXX and XX/X...\\n2821    XX/XX/2020 - Wrote check for {$1200.00} to Cit...\\n2822    On XX/XX/2020, I purchased three airline ticke...\\n2824    I received a letter dated XX/XX/20 informing m...\\n2828    THIS IS THE SECOND TIME I AM FILING A COMPLAIN...\\n2830    During XXXX/XX/XX/2019 I was inquiring with va...\\n2834    The balance was paid in full last month yet Ho...\\n2835    This is the second time I\\'m filing a complaint...\\n2836    I\\'ve made every payment on this Custom Credit ...\\n2838    Between XX/XX/XXXX and XX/XX/XXXX, I opened se...\\n2839    I had a Citi AAdvantage Platinum Select credit...\\n2840    XX/XX/2020 I stopped into local Citibank to ma...\\n2841    Reference original CFPB Complaint ID XXXX. \\\\nC...\\n2842    I logged on to my Citi mobile app on XX/XX/XXX...\\n2844    I applied for a credit card at Best Buy when i...\\n2853    COMPANY IN QUESTION IS HOME DEPOT COMMERCIAL C...\\n2854    I received the Citicards secured Visa card in ...\\n2856    In XXXX of 2015 I was laid off from my job. Ci...\\n2857    I received an email from XXXX XXXX on XX/XX/20...\\n2859    Hotel reservation for {$700.00} made with my C...\\n2860    Citi Credit Cards reported my XX/XX/XXXX payme...\\n2862    I opened a new Citi Premier credit card in XXX...\\n2863    ON XX/XX/20 I submitted a payment for {$100.00...\\n2864    Unable to view recent transactions on my CitiC...\\n2866    a best buy credit card through Citibank has my...\\n2868    Wallet was stolen while at a store. Credit Car...\\n2869    An attempt to obtain a XXXX XXXX \\' Master Card...\\n2870    XX/XX/XXXX I applied for a citibank secured cr...\\n2872    Citicard \\'s XXXX XXXX credit card offers a ben...\\n2873    I was shocked when I reviewed my credit report...\\n2874    In XX/XX/2019 while I was on vacation out of m...\\n2876    I opened a Citi Priority Account in XX/XX/2019...\\n2877    Over the course of the last few years ( dating...\\n2880    Citibank lied to me about the reason for conta...\\n2881    I asked to downgrade by Citi Prestige Card to ...\\n2882    I opened an account with Citibank in XX/XX/201...\\n2885    Their was some fraudulent activity on my Macy ...\\n2886    In previous debt dispute letters, I have reque...\\n2887    XX/XX/XXXX The Home Depot Consumer Credit Card...\\n2888    Hi I tried for 7 years to resolve this issue w...\\n2889    This account was removed and then re added bac...\\n2890    I have a credit card debt in collection. The c...\\n2893    I have owned a Costco visa credit card, and I ...\\n2894    On XX/XX/XXXX, I purchased a sofa from Macys.c...\\n2895    XX/XX/XXXX- Contacted all 3 bureaus and XXXX X...\\n2896    I placed a dispute on a purchase on XX/XX/22 a...\\n2897    I have had this CITI Bank for 5 years with no ...\\n2898    XX/XX/XXXX went to Costco with my husband who ...\\n2901    Citi Double Cash credit card changed their ben...\\n2903    My husband and I left Washington state XX/XX/X...\\n2906    Around XXXX, XXXX there was a few unauthorized...\\n2907    Citibank USA credit card department declined m...\\n2908    In XXXX I opened a Macys card unfortunately du...\\n2909    My credit card number was stolen and used for ...\\n2913    I had a account with home depot that was charg...\\n2914    I received a phone call from my property manag...\\n2916    Had my identity stolen in XX/XX/2019 and have ...\\n2917    Citibank was offering a Citi Flex-Pay Option o...\\n2918    I accepted a new credit card offer for an Amer...\\n2921    I see multiple 30 & 60-days late marks which i...\\n2922    We filed the initial response with Citibank on...\\n2924    I applied for a credit card to be used for an ...\\n2927    Reference # XXXX I contacted Home Depot credit...\\n2931    Following collection companies has a collectio...\\n2934    My name is XXXX XXXX. Ive been a victim of cre...\\n2937    I used Citibank mobile app to transfer {$300.0...\\n2939    I assume due in part to the Covid-19 Epidemic,...\\n2940    I have tried calling the credit card company a...\\n2942    I have tried multiple times via certified mail...\\n2946    I had received a new bank account offer from C...\\n2949    XX/XX/2020 I cancelled 4 Excusurions with XXXX...\\n2953    This particular account situation that is late...\\n2954    Citibank decreased both credit limits on my ca...\\n2959    I have a bestbuy citi visa that I applied beca...\\n2961    As a long time Citibank credit card customer, ...\\n2962    Every time I log in to Citi / Best Buy account...\\n2965    We have been defrauded by Citibank for the tot...\\n2966    In XXXX i had a dispute with Bestbuy. \\\\nI trie...\\n2971    My wife, XXXX XXXX, is the primary card holder...\\n2973    While checking my most recent credit report, I...\\n2974    On XX/XX/XXXX, I mailed a settlement letter to...\\n2976    I was shocked when I reviewed my credit report...\\n2977    Few days ago, I pull my online best buy credit...\\n2979    I see multiple 30 & 60-days late marks which i...\\n2981    My citi bank ( Double Cash ) accounts in good ...\\n2985    I was late on a Macy \\'s credit card bill 35 da...\\n2987    Citi failed to provide the protection they pro...\\n2989    PLEASE NOTE : The account number submitted wit...\\n2991    On XX/XX/2020 a letter from XXXX XXXX XXXX XXX...\\n2992    We signed on for a home mortgage with Citibank...\\n2993    I made {$650.00} online purchase on XXXX for a...\\n2995    I paid my full balance on my Citibank card on ...\\n2996    On XX/XX/XXXX I purchase a refrigerator online...\\n2999    Back in XX/XX/XXXX, I made a phone call to Cit...\\n3002    On XXXX, during the Covid-19 pandemic I contac...\\n3004    This is my fourth complaint regarding a fraudu...\\n3009    I was shocked when I reviewed my credit report...\\n3011    On or about XX/XX/2019, as a result of a promo...\\n3012    Used my bankruptcy and the fact I am on a limi...\\n3015    This account was reportedly closed in 2015 and...\\n3016    Every time I pay my Macys credit card bill in ...\\n3017    I originally had a Sears card that I used to p...\\n3018    I have disputed this account and have reached ...\\n3020    Citibank, a synonym of poor service. As a cust...\\n3024    I am livid with Citibank. \\\\nMany times they ha...\\n3026    I received a late fee back in XX/XX/2020 on a ...\\n3028    On XX/XX/XXXX I went to XXXX to send {$530.00}...\\n3029    THIS COMPLAINT IS AGAINST MACY \\'S CREDT CARD. ...\\n3030    I had some fraudulent charges on my Citi Bank ...\\n3031    I purchased a XXXX XXXX  from XXXX XXXX online...\\n3032    Every credit card company has suspended paymen...\\n3034    I have opened Citibank Account Package ( inclu...\\n3037    1. ) UNABLE TO PROVE BANKRUPTCY CASE # XXXX DA...\\n3038    I have not received confirmation not certified...\\n3041    I closed the subject credit card account with ...\\n3044    I took a trip to XXXX back in XXXX of XXXX, fi...\\n3045    To whom it may concern, I have tons of old deb...\\n3046    XXXX  not reporting account sold and never rep...\\n3047    I have an autopay set up for my credit card us...\\n3048    My balance transfer convenience check for XXXX...\\n3051    XX/XX/2019 Offer ( SEE ATTACHED ) : EARN A {$2...\\n3054    I DID NOT CHARGE ON MY CREDIT CARD.I \\'M DISPUT...\\n3056    I called Citibank regarding my credit card end...\\n3059    Citi Bank closed my account despite having acc...\\n3060    Home depot has a 24 month no interest promotio...\\n3062    Ive had a Macys account for almost 2 years, Iv...\\n3064    Citi offered a promotion that if you open a sa...\\n3066    So I had CBNA Best Buy credit card. The card e...\\n3068    AT & T Universal Credit Card, formally Citiban...\\n3069    On Thursday XX/XX/XXXX, I had contacted Macy \\'...\\n3076    DSNB/Macys is reporting a late payment to my C...\\n3077    Every item on my credit report is showing as l...\\n3078    On XX/XX/XXXX of 2020 I used my Citi Diamond P...\\n3079    There is a bill that has been sent to me since...\\n3080    I was told at the Best Buy store that when I a...\\n3082    I requested to have statement closing date or ...\\n3083    I called Sears Home Improvement for a free est...\\n3084    This is a complaint against EXXON/CBNA has run...\\n3086    I signed up for multiple Citi AAdvantage credi...\\n3088    I was victim of identity theft as a result of ...\\n3090    To whom it may concern, I was expecting to rec...\\n3091    CITI BANK XXXX XXXX XXXX XXXX. TOOK OUT DOUBLL...\\n3092    This was a case of fraud that was committed in...\\n3093    This final t refuses to call me their executiv...\\n3095    The company has reported a late pay on my cred...\\n3096    On XX/XX/2020, I went to check my credit card ...\\n3097    # XXXX items purchased for {$90.00}, {$53.00} ...\\n3099    I paid off my Citibank XXXX credit card on XX/...\\n3100    FAILED TO PROVIDED ME WITH DETAIL REQUEST FOR ...\\n3101    Hello Consumer Financial Protection Bureau, Pr...\\n3104    COMPLAINT : Sears Citi MasterCard fraud team i...\\n3105    For XXXX credit reporting for my account at Ci...\\n3106    I am currently a customer of Citibank. On XX/X...\\n3107    Subject - Citi XXXX Preferred Card Per telepho...\\n3109    In 2015 I purchased a XXXX $ tv from Best Buy ...\\n3111    I contacted Citi Bank in an attempt to resolve...\\n3112    My card citibank Mastercard was used fraudulen...\\n3113    Citibank/Citigroup has been contacting me for ...\\n3114    I had been calling Citicard for over a month b...\\n3119    XX/XX/2020 I was told to contact Citibank in r...\\n3123    Today, on XX/XX/2020, I received an alert from...\\n3124    My current legal name is XXXX XXXX, and my cur...\\n3126    Citi Group Issued Double cash card. For exampl...\\n3127    Citi Bank Mastercard just lowered my credit li...\\n3129    I received a letter from Citi dated XX/XX/XXXX...\\n3132    Hello - Hope you are staying well in these try...\\n3133    Creditors are not reporting correct informatio...\\n3136    On XX/XX/2020 I tried calling Citibank after s...\\n3141    I have contacted CitiBank multiple times with ...\\n3142    My husband and i had a Citibank card. We paid ...\\n3143    I have been a Citibank credit card customer ( ...\\n3148    I am complaining about Citibank \\'s penalty of ...\\n3149    Since around XX/XX/2019 I have been trying to ...\\n3151    Received a call and was connected to a \" Mr. X...\\n3152    Debt collector called in XXXX to collects on M...\\n3153    On XX/XX/2020 I made a purchase for an item. W...\\n3154    I have paid my credit card with Citibank relig...\\n3156    Citi Bank closed my credit card after agreeing...\\n3158    this was opened XXXX XXXX,2017 this was my ex ...\\n3160    Citibank charged me an annual fee for a card I...\\n3161    On XX/XX/2020 I had purchased off the XXXX sit...\\n3162    I was discriminated against and forced to clos...\\n3164    On XX/XX/XXXX at XXXX, a friend of mine sent h...\\n3165    Billing Disputes, This is regarding dispute nu...\\n3166    I used my Citi Dividend card only for my XXXX ...\\n3168    In XX/XX/XXXX I authorized my parents to use m...\\n3171    I contacted citicards on XX/XX/XXXX to file a ...\\n3172    I did not receive Citibank promotional bonus {...\\n3174    On XX/XX/XXXX and XX/XX/XXXX respectively, two...\\n3178    Citibank credit card is putting minimum due am...\\n3179    Audited my card transactions on XX/XX/XXXX and...\\n3181    Im filing a complaint against a CitibankCredit...\\n3182    I have two sears accounts reporting to my cred...\\n3183    Citibank closed my credit card without warning...\\n3185    My citi bank Best Buy card account says I owe ...\\n3186    On XX/XX/XXXX, I applied and was approved for ...\\n3188    Charges made to XXXX XXXX XXXX in XXXX I live ...\\n3189    Ive applied for a citi bank credit card on XX/...\\n3190    I have a Best Buy credit card issued by Ciciba...\\n3191    Sears by Citi credit card offered 0 % for 12 m...\\n3195    I payed off an account that was in collections...\\n3196    I have tried reaching the company unsuccessful...\\n3197    I applied to open a checking account with CITI...\\n3198    **THIS IS NEW ORIGINAL INFORMATION** Attached ...\\n3201    Macy \\'s did a hard credit pull on my credit re...\\n3202    On XX/XX/XXXX I accidentally paid off the full...\\n3204    On XX/XX/XXXX, a check XXXX ( check advance ) ...\\n3205    I cancelled my XXXX XXXX XXXX XXXX credit card...\\n3208    A system error that Citibank had created for m...\\n3211    This particular account situation that is late...\\n3213    In XXXX I had a Best Buy ( CBNA ) credit card,...\\n3219    On XX/XX/20 I was laid off due to covid-19. I ...\\n3220    Dear Team, I have been attempting to obtain a ...\\n3222    XX/XX/XXXX RE : Notice of stolen/unauthorized ...\\n3223    Constant and threatening calls when I had alre...\\n3224    I am writing regarding the cardholder agreemen...\\n3231    Hi brand new customer here. I received my card...\\n3233    I am submitting a complaint about how the char...\\n3236    In XXXX my ex-husband bought a car at XXXX XXX...\\n3237    I was shocked when I reviewed my credit report...\\n3238    Re : CitiCard VISA complaint Citicard refused ...\\n3239    My name is XXXX XXXX and I own a Platinum Stor...\\n3240    At the beginning of XXXX ( XX/XX/XXXX ), I was...\\n3241    I tried to make a purchase on XX/XX/XXXX, XX/X...\\n3245    I have a Sears Mastercard and was given a 6 mo...\\n3246    I have disputed this account numerous times wi...\\n3247    I Just reviewed my City Rewards+ Card statemen...\\n3248    I received a letter on XX/XX/XXXX form XXXX XX...\\n3249    XXXX Received a response back from Citi the is...\\n3251    on or before XX/XX/XXXX & XX/XX/XXXX XXXX XXXX...\\n3252    - On XX/XX/20 I am filing a formal complaint w...\\n3253    I was notified by letter I received on XX/XX/X...\\n3254    I have a citi credit card with {$13000.00} lim...\\n3261    My card is with Citi Bank and I paid it off in...\\n3262    Citi bank has continued to provide fraudulent ...\\n3263    To be fair, my letter to Citi \\'s Executive off...\\n3264    Brandsource Citi/CBNA appears on my credit rep...\\n3268    Cit-bank XXXX  Card I paid off this credit car...\\n3269    I called Citi-Cards today XX/XX/20, and asked ...\\n3270    XX/XX/XXXX I initiated a balance transferred C...\\n3273    Citi Bank/Shell/CBNA opened an account in my n...\\n3274    On or around XX/XX/XXXX I chatted via phone wi...\\n3276    I checked my credit report to see an old accou...\\n3280    On XX/XX/2015 I bought a wedding ring from XXX...\\n3286    I am complaining against Macy \\'s as they are t...\\n3289    I was given an offer by Home Depot on-line - i...\\n3293    On XX/XX/2020 I received automatic messages fr...\\n3295    I have a tour company and I use citi credit ca...\\n3300    This request is in response to your tradeline ...\\n3303    I have autopayment set up for the last full ba...\\n3305    I never received my monthly bill for the month...\\n3307    My automatic payment on XX/XX/XXXX inexplicabl...\\n3308    on XX/XX/2020 Citibank Credit cards charged me...\\n3310    On XX/XX/2020, I decided to purchase a NordicT...\\n3311    I have attempted to close my credit card accou...\\n3312    My complaint relates to a violation of CFPB re...\\n3314    XX/XX/XXXX - {$1800.00} purchase from Vendor X...\\n3315    This is regarding billing dispute XXXX. \\\\n\\\\nI ...\\n3317    At the end of XX/XX/2020, I signed up for auto...\\n3319    Citibank approved me for multiple XXXX XXXX cr...\\n3321    My credit report has not been updated since XX...\\n3322    I opened on XX/XX/XXXX a new HomeDepot credit ...\\n3323    I used auto pay for my Macy \\'s account. I prog...\\n3324    I opened a simplicity credit card that had adv...\\n3325    This dispute is for the purchase of 2 tickets ...\\n3327    XXXX XXXX under alleged Home Depot Card : XXXX...\\n3328    Over {$3000.00} dollars of items were fraudule...\\n3337    Hello, this is regarding a promotion at Citi B...\\n3338    I signed up for Citibank \\'s \" {$500.00} Bonus ...\\n3339    Macy \\'s Billing Dispute Dept. \\\\nXXXX XXXX XXXX...\\n3341    Been a customers of citi bank credit cards hav...\\n3342    I manage a travel agency and I use my CITI cre...\\n3344    On XX/XX/XXXX and again on XX/XX/XXXX I answer...\\n3345    XX/XX/XXXX Consumer Financial Protection Burea...\\n3347    The following are the four fraudulent credit c...\\n3348    After numerous phone calls requesing the accou...\\n3349    I signed up for a Citi checking account in a p...\\n3351    I went into XXXX  to get my car serviced. They...\\n3352    This complaint is in regards to a XXXX thank y...\\n3353    On XX/XX/2019 two ( 2 ) payments were made and...\\n3354    XX/XX/2019 To Whom It May Concern : On a recen...\\n3355    I have a CitiAAAdvantage card that I have had ...\\n3357    A lawsuit was filled in the county court for a...\\n3358    On or about XX/XX/XXXX I opened a Citibank Bas...\\n3362    In XX/XX/XXXX and XX/XX/XXXX, were made 2 tran...\\n3363    I have been attempting to pay off an old debt ...\\n3364    thd ftc or fair debt violation XXXX is reporti...\\n3369    I am a customer of Citi Bank. I had an unknown...\\n3370    On my credit report a card is listed that is n...\\n3374    Hi On Friday  XX/XX/2019 I received a call fro...\\n3375    XXXX- XXXX  I opened up a business account for...\\n3376    In XX/XX/XXXX I purchased set of XXXX wheels f...\\n3377    I was shocked when I reviewed my credit report...\\n3378    On XX/XX/2020 my Costco Citi credit card accou...\\n3379    Citi Card Online has been making attempts to w...\\n3380    I had a dispute with Citibank regarding unauth...\\n3381    1. XX/XX/XXXX : a ] {$130.00} was automaticall...\\n3382    This is regarding billing dispute XXXX. The me...\\n3383    -Standard Purchases on XX/XX/XXXX {$540.00} XX...\\n3384    I received a permanent credit and a refund che...\\n3385    I have filed a billing dispute for my CITI Pre...\\n3386    In early 2019 I went through a business period...\\n3387    On XX/XX/2019, I was charged my normal fee for...\\n3389    On XX/XX/XXXX I received an email stating that...\\n3390    My Citibank XXXX XXXX XXXX  card said they wer...\\n3392    I purchased a microwave from home depot using ...\\n3394    XXXX  credit reports that I applied for a Best...\\n3395    I received a promo from Citibank to get {$500....\\n3396    I checked my credit and saw an account from XX...\\n3398    My Name is XXXX XXXX I Am XXXX \\'s XXXX XXXX Hu...\\n3404    Contacted XXXX  numerous times since I was mad...\\n3405    Hi, On XX/XX/2020, I received an email from XX...\\n3406    XXXX XXXX XXXX DOB : XXXX XXXX XXXX XXXX XXXX ...\\n3409    My Att & t credit card was protected by credit...\\n3411    On XXXX the XXXX I set up an account with citi...\\n3414    I made a purchase at Best Buy on XX/XX/2018 fo...\\n3418    I have a 30-day-late mark on my credit reports...\\n3419    Dear Ombudsman, Hereby, I am making a formal c...\\n3421    Starting the XX/XX/2016, I fell victim to a fr...\\n3422    Best Buy Credit Services, Citi Bank. Morally B...\\n3424    On or about XX/XX/XXXX, I received a letter in...\\n3425    I requested 6 old statements of my Citi Card t...\\n3430    My XXXX XXXX Advantage account was locked then...\\n3433    Back in XX/XX/2019 I had left for a work trip ...\\n3434    On XX/XX/XXXX I purchased a necklace and a pen...\\n3435    I have a checking account with citibank and ha...\\n3440    Hello I have a Citibank secured Credit Card. I...\\n3444    I normally maintain a credit balance on my AA ...\\n3447    I purchased a XXXX stove XX/XX/XXXX from a Sea...\\n3450    In late XXXX I was forced to cancel a planned ...\\n3451    I have been trying to get more information reg...\\n3452    Due to COVID I had a check come in late. My bi...\\n3454                     This is not my debt owed to Macy\\n3455    On XX/XX/XXXX I purchased a XXXX dishwasher at...\\n3456    I have received multiple Citibank AAdvantage c...\\n3457    My name is XXXX XXXX XXXX, On XX/XX/2020 Citi ...\\n3459    I opened checking account with CITI in order f...\\n3460    Due to my vacation being cancelled, I received...\\n3461    I was shocked when reviewing my credit report ...\\n3463    During the hardship of millions of people due ...\\n3464    XX/XX/XXXX - paid {$1400.00} to XXXX in XXXX a...\\n3472    I had a Costco Visa card issued by Citibank. T...\\n3474    My family is struggling due to the virus crisi...\\n3475    Citi bank has retaliated against me for filing...\\n3476    During this time of COVD my hours at work have...\\n3477    the company scammed me into getting the card. ...\\n3478    I was a victim of identity theft, a Macys acco...\\n3479    While checking out at Home Depot the cashier c...\\n3482    I have always paid my account on time every mo...\\n3484    I opened a CitiBank AA Credit Card in XXXX, an...\\n3486    Tried to contact Macys in reference to an acco...\\n3488    Citi prepaid amount paid XXXX and XXXX XX/XX/X...\\n3491    This particular account situation that is late...\\n3493    The company closes my account without my conse...\\n3494    A government travel card was issued through CI...\\n3496    In XX/XX/2019 my card was stolen. There were l...\\n3497    1 ) I scheduled {$10000.00} to be transferred ...\\n3499    am having trouble trying to get verified with ...\\n3502    I opened the checking account in XX/XX/2019 an...\\n3507    Home Depot Credit Services owes me a {$25.00} ...\\n3508    The proper option was not provided. Nor Other ...\\n3509    On XX/XX/XXXX, I received a text message from ...\\n3511    On XXXX XXXX, I have a refund credit of {$1000...\\n3514    These accounts has appeared on my credit repor...\\n3515    I was shocked when I reviewed my credit report...\\n3516    This particular account situation that is late...\\n3517    On XX/XX/20, I contacted Macy \\'s about the 4th...\\n3519    best buy/ cbna is reporting on my credit repor...\\n3520    On XX/XX/2019, I reported a possible purchase ...\\n3521    Applied for Citibank with mid 700 scores. Was ...\\n3522    I have signed up for Citi AAdvantage credit ca...\\n3524    CFPB I am filing a formal complaint on Citiban...\\n3525    I have not received confirmation not certified...\\n3526    On Wednesday XX/XX/XXXX, I visited XXXX XXXX X...\\n3528    I previously had not been able to get into and...\\n3530    XX/XX/XXXX Sears Home Improvement account, ban...\\n3532    XX/XX/XXXX I phoned Citibank to ask for a copy...\\n3534    I had two accounts with Citi bank, one was as ...\\n3535    CITI BANK EMPLOYEE SUPPOSEDLY DEPOSITED OVER X...\\n3536    On XX/XX/XXXX, our Costco rewards card through...\\n3540    My husband died  in XX/XX/2019 after an XXXX X...\\n3543    I do not knwo what is going on with this accou...\\n3544    At the end of XXXX of 2020, I received a notic...\\n3546    On XX/XX/2020, I was charged a {$25.00} late f...\\n3548    Citibank credit cards department has been cont...\\n3550    We purchased kitchen appliance from Best Buy i...\\n3551    I made a purchase on this card in the amount o...\\n3552    On XX/XX/2020 I called into Macy \\'s DSNB to ad...\\n3555    I am writing because I have recently been invo...\\n3557    On XXXX XX/XX/2020, I received a letter from C...\\n3558    Citi bank online service, XX/XX/XXXXI pay off ...\\n3560    I have had my home depot card for almost 8 yea...\\n3561    I see multiple 30 & 60-days late marks which i...\\n3568    Dear SR or MADAM. I am writing to complain aga...\\n3569    Citicards has not reversed charge with airline...\\n3572    XX/XX/XXXX Citi Cards Customer Service Box XXX...\\n3574    On XX/XX/2020, I added a new payment account (...\\n3576    Citibank, credit annual membership fee of {$50...\\n3579    Opened a checking account with Citibank \\'s bra...\\n3581    On XX/XX/XXXX my sister went to XXXX XXXX mall...\\n3582    Called Citibank on XX/XX/2020 to cancel my Cit...\\n3585    XXXX ... I am a XXXX and was approached by a \"...\\n3586    XXXX of the Family XXXX XXXX XXXX XXXX XXXX XX...\\n3587    On XX/XX/XXXX, I booked a XXXX flight through ...\\n3591    I pay my bill in full and on time. Yet Macys c...\\n3596    In XXXX of 2019, Department Stores National Ba...\\n3597    Headnote : I wish to emphasize at the outset t...\\n3598    XXXX/XXXX XXXX XX/XX/XXXX XXXX XXXX XXXX XXXX ...\\n3600    Contacted Citibank on XX/XX/2020 to find out h...\\n3601    I opened the Home Equity Line with Citibank be...\\n3603    Upon reviewing my credit report, I noticed an ...\\n3609    I have disputed this account and have reached ...\\n3611    I have a CITI Double Cash Card. On XX/XX/2020,...\\n3615    I was shocked when I reviewed my credit report...\\n3618    In late XX/XX/2020, I noticed that I was no lo...\\n3622    On XX/XX/2020 I requested {$490.00} from my da...\\n3625    I contacted citi to change my credit card for ...\\n3628    I am writing to you to dispute this charge. On...\\n3629    Somewhere in mid XXXX ( cant remember the spec...\\n3631    around XX/XX/XXXX I contact customer service t...\\n3632    I have not received my CC yet, I have attempte...\\n3633    A purchase was made at Macy \\'s for {$56.00} on...\\n3634    My personal information was used without my kn...\\n3638    i had citi card cbna inquire on XX/XX/2018!! \\\\...\\n3640    I am not sure how this happened, I believe tha...\\n3641    Receive a cordial greeting from me. \\\\n\\\\nMy nam...\\n3644    My complaint is the scamming techniques they u...\\n3646    I am working on refinancing my mortgage and th...\\n3649    On XX/XX/XXXX I paid {$2300.00} through the Ma...\\n3651    I made purchase n recieved it XXXX I returned ...\\n3652    I originally disputed a portion of a charge fr...\\n3653    Sunoco gas credit card numbers were stolen per...\\n3655    I opened a dispute claim with Citi Bank and th...\\n3656    I have been charged interest 3 months in a row...\\n3658    A fraudulent credit card application using my ...\\n3660    I signed up for Citibank \\'s \" {$400.00} Bonus ...\\n3661    On XX/XX/XXXX I purchased XXXX XXXX XXXX conce...\\n3662    On XX/XX/XXXX XXXX XXXX XXXX while on the phon...\\n3663    Its obviously a fake debt collector. It states...\\n3664    Home Depot made a mistake. My account was neve...\\n3667    From XXXX XXXX XXXX  PST to XXXX XXXX XXXX  PS...\\n3668    On XX/XX/2020, I attempted to transfer XXXX XX...\\n3669    I have been in medical care since 2017 and mad...\\n3670    Citibank debited my checking account for 2 fra...\\n3672    I opened an account with CitiBank \\'s Citigold ...\\n3675    XXXX XXXX is refusing to disclose amounts it p...\\n3680    Hello, Thank you for giving me the chance to s...\\n3681    I received a letter last week, regarding a dis...\\n3682    My name is XXXX XXXX, I am currently a Citi ch...\\n3684    XXXX XXXX. Best Buy acct. Thought to be a soft...\\n3685    A Consent Order ( File No. 2017 XXXX XXXX  ) w...\\n3686    Merchant : XXXX XXXX XXXX XXXX  CA {$190.00} o...\\n3689    I am still being impacted by the covid 19 and ...\\n3691    I opened a checking and savings account with C...\\n3700    I called CitiMortgage today to try to get them...\\n3701    I received a letter from Macy \\'s stating that ...\\n3702    In XX/XX/2019, I opened a checking account wit...\\n3706    XXXX  Credit Reporting Bureau received my requ...\\n3709    CFPB & Citi, I\\'m writing to request my securit...\\n3710    Below is a copy of a letter that I am sending ...\\n3713    There was a debt that showed up on my credit r...\\n3715    Name : XXXX XXXX Address : XXXX XXXX XXXX, XXX...\\n3721    On the XXXX of, XXXX XXXX, was in process of o...\\n3723    In XXXX, I applied for XXXX XXXX card financed...\\n3725    In XX/XX/2020 my husband I booked a trip for X...\\n3726    I am writing to appeal Citibanks research resu...\\n3728    On XX/XX/XXXX I made the minimum payment due o...\\n3730    Not only did it take months for them to correc...\\n3732    Case # XXXX On XX/XX/XXXX, I, XXXX XXXX ( cust...\\n3735    I contacted Citibank via telephone. I informed...\\n3739    I have a MasterCard with Citi that I have held...\\n3740    On XX/XX/2020, I raised a dispute of or a {$19...\\n3742    I have disputed this account and have reached ...\\n3743    I was advised, without any prior warning, that...\\n3744    Our family is experiencing financial difficult...\\n3745    I married my husband in XX/XX/XXXX and during ...\\n3746    On XX/XX/2019 I filed a dispute with Citibank ...\\n3747    for the last 6 months i have been trying to re...\\n3748    I booked three hotels in XXXX with my Citi Cos...\\n3749    I used my citi bank Master Card on the XXXX of...\\n3751    I opened an interest checking account ( XXXX )...\\n3752    TO WHOM IT MAY CONCERN : I am writing this let...\\n3753    On XX/XX/2020, I attempted to transfer XXXX XX...\\n3755    I paid off my Macey \\'s credit card in full ( X...\\n3756    This is regard Citibank, There was about 6 tra...\\n3757    on XX/XX/XXXX I received a letter from citi ba...\\n3759    I signed up for CitiBank AAdvantage Platinum c...\\n3761    My Macy \\'s credit card has reported a late pay...\\n3762    I XXXX XXXX have been been unemployed for the ...\\n3771    On XXXX XXXX I charged a cruise from XXXX  XXX...\\n3775    Date : XX/XX/XXXX, Amt : {$1500.00}, Citibank ...\\n3778    In 2016 Costco ended its partnership with the ...\\n3779    On XX/XX/XXXX, I received an email from CITI B...\\n3781    This my complaint because it seems Citi lied i...\\n3788    Citi Rewards Card Ending in XXXX On XX/XX/XXXX...\\n3789    On XX/XX/XXXX20 my bank, XXXX XXXX, overnighte...\\n3790    On XX/XX/2020 - Citibank NA, Best Buy checked ...\\n3795    Citibank is refusing to honor its offer of XXX...\\n3796    I applied Citibusiness AAdvantage platinum sel...\\n3798    On my XX/XX/2020 statement there was a balance...\\n3799    On XX/XX/XXXX, I purchased something with my C...\\n3802    Original mortgage and note are dated XX/XX/XXX...\\n3804    XXXX XXXX closed my frequent flyer account sta...\\n3808    I called and chatted on multiple occasions. Mo...\\n3811    I looked at my credit report in XXXX of 2020 a...\\n3812    Hello - Hope you are staying well ... .this is...\\n3813    I was offered a credit card at Best Buy when I...\\n3814    On XX/XX/XXXX, I opened a new checking and a n...\\n3818    I filed a dispute with Citi Cards ( CitiBank )...\\n3821    On XX/XX/XXXX I received my monthly statement ...\\n3824    Citibank promised a new account promotion for ...\\n3825    I opened a citi visa Costco card to get the be...\\n3826    The bank is requesting me to transfer XXXX to ...\\n3830    Dispute # : XXXX On XX/XX/XXXX I made an onlin...\\n3832    I have not received confirmation not certified...\\n3833    CITI FREEZES MY ASSETS FOR 120 DAYS AND PROVID...'"
      ]
     },
     "execution_count": 11,
     "metadata": {},
     "output_type": "execute_result"
    }
   ],
   "source": [
    "df_text = df2.to_string()\n",
    "df_text"
   ]
  },
  {
   "cell_type": "markdown",
   "metadata": {},
   "source": [
    "Now we'll send this data to NLU to get [keywords](https://cloud.ibm.com/apidocs/natural-language-understanding?code=python#keywords), [sentiment](https://cloud.ibm.com/apidocs/natural-language-understanding?code=python#sentiment), and [emotions](https://cloud.ibm.com/apidocs/natural-language-understanding?code=python#emotion) ."
   ]
  },
  {
   "cell_type": "code",
   "execution_count": 12,
   "metadata": {},
   "outputs": [
    {
     "name": "stderr",
     "output_type": "stream",
     "text": [
      "ERROR:root:Error in service call\n",
      "Traceback (most recent call last):\n",
      "  File \"/usr/local/lib/python3.7/site-packages/urllib3/connectionpool.py\", line 381, in _make_request\n",
      "    self._validate_conn(conn)\n",
      "  File \"/usr/local/lib/python3.7/site-packages/urllib3/connectionpool.py\", line 976, in _validate_conn\n",
      "    conn.connect()\n",
      "  File \"/usr/local/lib/python3.7/site-packages/urllib3/connection.py\", line 370, in connect\n",
      "    ssl_context=context,\n",
      "  File \"/usr/local/lib/python3.7/site-packages/urllib3/util/ssl_.py\", line 377, in ssl_wrap_socket\n",
      "    return context.wrap_socket(sock, server_hostname=server_hostname)\n",
      "  File \"/usr/local/Cellar/python/3.7.4_1/Frameworks/Python.framework/Versions/3.7/lib/python3.7/ssl.py\", line 423, in wrap_socket\n",
      "    session=session\n",
      "  File \"/usr/local/Cellar/python/3.7.4_1/Frameworks/Python.framework/Versions/3.7/lib/python3.7/ssl.py\", line 870, in _create\n",
      "    self.do_handshake()\n",
      "  File \"/usr/local/Cellar/python/3.7.4_1/Frameworks/Python.framework/Versions/3.7/lib/python3.7/ssl.py\", line 1139, in do_handshake\n",
      "    self._sslobj.do_handshake()\n",
      "socket.timeout: _ssl.c:1059: The handshake operation timed out\n",
      "\n",
      "During handling of the above exception, another exception occurred:\n",
      "\n",
      "Traceback (most recent call last):\n",
      "  File \"/usr/local/lib/python3.7/site-packages/requests/adapters.py\", line 449, in send\n",
      "    timeout=timeout\n",
      "  File \"/usr/local/lib/python3.7/site-packages/urllib3/connectionpool.py\", line 725, in urlopen\n",
      "    method, url, error=e, _pool=self, _stacktrace=sys.exc_info()[2]\n",
      "  File \"/usr/local/lib/python3.7/site-packages/urllib3/util/retry.py\", line 403, in increment\n",
      "    raise six.reraise(type(error), error, _stacktrace)\n",
      "  File \"/usr/local/lib/python3.7/site-packages/urllib3/packages/six.py\", line 735, in reraise\n",
      "    raise value\n",
      "  File \"/usr/local/lib/python3.7/site-packages/urllib3/connectionpool.py\", line 677, in urlopen\n",
      "    chunked=chunked,\n",
      "  File \"/usr/local/lib/python3.7/site-packages/urllib3/connectionpool.py\", line 384, in _make_request\n",
      "    self._raise_timeout(err=e, url=url, timeout_value=conn.timeout)\n",
      "  File \"/usr/local/lib/python3.7/site-packages/urllib3/connectionpool.py\", line 336, in _raise_timeout\n",
      "    self, url, \"Read timed out. (read timeout=%s)\" % timeout_value\n",
      "urllib3.exceptions.ReadTimeoutError: HTTPSConnectionPool(host='api.us-south.natural-language-understanding.watson.cloud.ibm.com', port=443): Read timed out. (read timeout=60)\n",
      "\n",
      "During handling of the above exception, another exception occurred:\n",
      "\n",
      "Traceback (most recent call last):\n",
      "  File \"/usr/local/lib/python3.7/site-packages/ibm_cloud_sdk_core/base_service.py\", line 208, in send\n",
      "    response = requests.request(**request, cookies=self.jar, **kwargs)\n",
      "  File \"/usr/local/lib/python3.7/site-packages/requests/api.py\", line 61, in request\n",
      "    return session.request(method=method, url=url, **kwargs)\n",
      "  File \"/usr/local/lib/python3.7/site-packages/requests/sessions.py\", line 530, in request\n",
      "    resp = self.send(prep, **send_kwargs)\n",
      "  File \"/usr/local/lib/python3.7/site-packages/requests/sessions.py\", line 643, in send\n",
      "    r = adapter.send(request, **kwargs)\n",
      "  File \"/usr/local/lib/python3.7/site-packages/requests/adapters.py\", line 529, in send\n",
      "    raise ReadTimeout(e, request=request)\n",
      "requests.exceptions.ReadTimeout: HTTPSConnectionPool(host='api.us-south.natural-language-understanding.watson.cloud.ibm.com', port=443): Read timed out. (read timeout=60)\n"
     ]
    },
    {
     "ename": "ReadTimeout",
     "evalue": "HTTPSConnectionPool(host='api.us-south.natural-language-understanding.watson.cloud.ibm.com', port=443): Read timed out. (read timeout=60)",
     "output_type": "error",
     "traceback": [
      "\u001b[0;31m--------------------------------------------------------------\u001b[0m",
      "\u001b[0;31mtimeout\u001b[0m                      Traceback (most recent call last)",
      "\u001b[0;32m/usr/local/lib/python3.7/site-packages/urllib3/connectionpool.py\u001b[0m in \u001b[0;36m_make_request\u001b[0;34m(self, conn, method, url, timeout, chunked, **httplib_request_kw)\u001b[0m\n\u001b[1;32m    380\u001b[0m         \u001b[0;32mtry\u001b[0m\u001b[0;34m:\u001b[0m\u001b[0;34m\u001b[0m\u001b[0;34m\u001b[0m\u001b[0m\n\u001b[0;32m--> 381\u001b[0;31m             \u001b[0mself\u001b[0m\u001b[0;34m.\u001b[0m\u001b[0m_validate_conn\u001b[0m\u001b[0;34m(\u001b[0m\u001b[0mconn\u001b[0m\u001b[0;34m)\u001b[0m\u001b[0;34m\u001b[0m\u001b[0;34m\u001b[0m\u001b[0m\n\u001b[0m\u001b[1;32m    382\u001b[0m         \u001b[0;32mexcept\u001b[0m \u001b[0;34m(\u001b[0m\u001b[0mSocketTimeout\u001b[0m\u001b[0;34m,\u001b[0m \u001b[0mBaseSSLError\u001b[0m\u001b[0;34m)\u001b[0m \u001b[0;32mas\u001b[0m \u001b[0me\u001b[0m\u001b[0;34m:\u001b[0m\u001b[0;34m\u001b[0m\u001b[0;34m\u001b[0m\u001b[0m\n",
      "\u001b[0;32m/usr/local/lib/python3.7/site-packages/urllib3/connectionpool.py\u001b[0m in \u001b[0;36m_validate_conn\u001b[0;34m(self, conn)\u001b[0m\n\u001b[1;32m    975\u001b[0m         \u001b[0;32mif\u001b[0m \u001b[0;32mnot\u001b[0m \u001b[0mgetattr\u001b[0m\u001b[0;34m(\u001b[0m\u001b[0mconn\u001b[0m\u001b[0;34m,\u001b[0m \u001b[0;34m\"sock\"\u001b[0m\u001b[0;34m,\u001b[0m \u001b[0;32mNone\u001b[0m\u001b[0;34m)\u001b[0m\u001b[0;34m:\u001b[0m  \u001b[0;31m# AppEngine might not have  `.sock`\u001b[0m\u001b[0;34m\u001b[0m\u001b[0;34m\u001b[0m\u001b[0m\n\u001b[0;32m--> 976\u001b[0;31m             \u001b[0mconn\u001b[0m\u001b[0;34m.\u001b[0m\u001b[0mconnect\u001b[0m\u001b[0;34m(\u001b[0m\u001b[0;34m)\u001b[0m\u001b[0;34m\u001b[0m\u001b[0;34m\u001b[0m\u001b[0m\n\u001b[0m\u001b[1;32m    977\u001b[0m \u001b[0;34m\u001b[0m\u001b[0m\n",
      "\u001b[0;32m/usr/local/lib/python3.7/site-packages/urllib3/connection.py\u001b[0m in \u001b[0;36mconnect\u001b[0;34m(self)\u001b[0m\n\u001b[1;32m    369\u001b[0m             \u001b[0mserver_hostname\u001b[0m\u001b[0;34m=\u001b[0m\u001b[0mserver_hostname\u001b[0m\u001b[0;34m,\u001b[0m\u001b[0;34m\u001b[0m\u001b[0;34m\u001b[0m\u001b[0m\n\u001b[0;32m--> 370\u001b[0;31m             \u001b[0mssl_context\u001b[0m\u001b[0;34m=\u001b[0m\u001b[0mcontext\u001b[0m\u001b[0;34m,\u001b[0m\u001b[0;34m\u001b[0m\u001b[0;34m\u001b[0m\u001b[0m\n\u001b[0m\u001b[1;32m    371\u001b[0m         )\n",
      "\u001b[0;32m/usr/local/lib/python3.7/site-packages/urllib3/util/ssl_.py\u001b[0m in \u001b[0;36mssl_wrap_socket\u001b[0;34m(sock, keyfile, certfile, cert_reqs, ca_certs, server_hostname, ssl_version, ciphers, ssl_context, ca_cert_dir, key_password, ca_cert_data)\u001b[0m\n\u001b[1;32m    376\u001b[0m         \u001b[0;32mif\u001b[0m \u001b[0mHAS_SNI\u001b[0m \u001b[0;32mand\u001b[0m \u001b[0mserver_hostname\u001b[0m \u001b[0;32mis\u001b[0m \u001b[0;32mnot\u001b[0m \u001b[0;32mNone\u001b[0m\u001b[0;34m:\u001b[0m\u001b[0;34m\u001b[0m\u001b[0;34m\u001b[0m\u001b[0m\n\u001b[0;32m--> 377\u001b[0;31m             \u001b[0;32mreturn\u001b[0m \u001b[0mcontext\u001b[0m\u001b[0;34m.\u001b[0m\u001b[0mwrap_socket\u001b[0m\u001b[0;34m(\u001b[0m\u001b[0msock\u001b[0m\u001b[0;34m,\u001b[0m \u001b[0mserver_hostname\u001b[0m\u001b[0;34m=\u001b[0m\u001b[0mserver_hostname\u001b[0m\u001b[0;34m)\u001b[0m\u001b[0;34m\u001b[0m\u001b[0;34m\u001b[0m\u001b[0m\n\u001b[0m\u001b[1;32m    378\u001b[0m \u001b[0;34m\u001b[0m\u001b[0m\n",
      "\u001b[0;32m/usr/local/Cellar/python/3.7.4_1/Frameworks/Python.framework/Versions/3.7/lib/python3.7/ssl.py\u001b[0m in \u001b[0;36mwrap_socket\u001b[0;34m(self, sock, server_side, do_handshake_on_connect, suppress_ragged_eofs, server_hostname, session)\u001b[0m\n\u001b[1;32m    422\u001b[0m             \u001b[0mcontext\u001b[0m\u001b[0;34m=\u001b[0m\u001b[0mself\u001b[0m\u001b[0;34m,\u001b[0m\u001b[0;34m\u001b[0m\u001b[0;34m\u001b[0m\u001b[0m\n\u001b[0;32m--> 423\u001b[0;31m             \u001b[0msession\u001b[0m\u001b[0;34m=\u001b[0m\u001b[0msession\u001b[0m\u001b[0;34m\u001b[0m\u001b[0;34m\u001b[0m\u001b[0m\n\u001b[0m\u001b[1;32m    424\u001b[0m         )\n",
      "\u001b[0;32m/usr/local/Cellar/python/3.7.4_1/Frameworks/Python.framework/Versions/3.7/lib/python3.7/ssl.py\u001b[0m in \u001b[0;36m_create\u001b[0;34m(cls, sock, server_side, do_handshake_on_connect, suppress_ragged_eofs, server_hostname, context, session)\u001b[0m\n\u001b[1;32m    869\u001b[0m                         \u001b[0;32mraise\u001b[0m \u001b[0mValueError\u001b[0m\u001b[0;34m(\u001b[0m\u001b[0;34m\"do_handshake_on_connect should not be specified for non-blocking sockets\"\u001b[0m\u001b[0;34m)\u001b[0m\u001b[0;34m\u001b[0m\u001b[0;34m\u001b[0m\u001b[0m\n\u001b[0;32m--> 870\u001b[0;31m                     \u001b[0mself\u001b[0m\u001b[0;34m.\u001b[0m\u001b[0mdo_handshake\u001b[0m\u001b[0;34m(\u001b[0m\u001b[0;34m)\u001b[0m\u001b[0;34m\u001b[0m\u001b[0;34m\u001b[0m\u001b[0m\n\u001b[0m\u001b[1;32m    871\u001b[0m             \u001b[0;32mexcept\u001b[0m \u001b[0;34m(\u001b[0m\u001b[0mOSError\u001b[0m\u001b[0;34m,\u001b[0m \u001b[0mValueError\u001b[0m\u001b[0;34m)\u001b[0m\u001b[0;34m:\u001b[0m\u001b[0;34m\u001b[0m\u001b[0;34m\u001b[0m\u001b[0m\n",
      "\u001b[0;32m/usr/local/Cellar/python/3.7.4_1/Frameworks/Python.framework/Versions/3.7/lib/python3.7/ssl.py\u001b[0m in \u001b[0;36mdo_handshake\u001b[0;34m(self, block)\u001b[0m\n\u001b[1;32m   1138\u001b[0m                 \u001b[0mself\u001b[0m\u001b[0;34m.\u001b[0m\u001b[0msettimeout\u001b[0m\u001b[0;34m(\u001b[0m\u001b[0;32mNone\u001b[0m\u001b[0;34m)\u001b[0m\u001b[0;34m\u001b[0m\u001b[0;34m\u001b[0m\u001b[0m\n\u001b[0;32m-> 1139\u001b[0;31m             \u001b[0mself\u001b[0m\u001b[0;34m.\u001b[0m\u001b[0m_sslobj\u001b[0m\u001b[0;34m.\u001b[0m\u001b[0mdo_handshake\u001b[0m\u001b[0;34m(\u001b[0m\u001b[0;34m)\u001b[0m\u001b[0;34m\u001b[0m\u001b[0;34m\u001b[0m\u001b[0m\n\u001b[0m\u001b[1;32m   1140\u001b[0m         \u001b[0;32mfinally\u001b[0m\u001b[0;34m:\u001b[0m\u001b[0;34m\u001b[0m\u001b[0;34m\u001b[0m\u001b[0m\n",
      "\u001b[0;31mtimeout\u001b[0m: _ssl.c:1059: The handshake operation timed out",
      "\nDuring handling of the above exception, another exception occurred:\n",
      "\u001b[0;31mReadTimeoutError\u001b[0m             Traceback (most recent call last)",
      "\u001b[0;32m/usr/local/lib/python3.7/site-packages/requests/adapters.py\u001b[0m in \u001b[0;36msend\u001b[0;34m(self, request, stream, timeout, verify, cert, proxies)\u001b[0m\n\u001b[1;32m    448\u001b[0m                     \u001b[0mretries\u001b[0m\u001b[0;34m=\u001b[0m\u001b[0mself\u001b[0m\u001b[0;34m.\u001b[0m\u001b[0mmax_retries\u001b[0m\u001b[0;34m,\u001b[0m\u001b[0;34m\u001b[0m\u001b[0;34m\u001b[0m\u001b[0m\n\u001b[0;32m--> 449\u001b[0;31m                     \u001b[0mtimeout\u001b[0m\u001b[0;34m=\u001b[0m\u001b[0mtimeout\u001b[0m\u001b[0;34m\u001b[0m\u001b[0;34m\u001b[0m\u001b[0m\n\u001b[0m\u001b[1;32m    450\u001b[0m                 )\n",
      "\u001b[0;32m/usr/local/lib/python3.7/site-packages/urllib3/connectionpool.py\u001b[0m in \u001b[0;36murlopen\u001b[0;34m(self, method, url, body, headers, retries, redirect, assert_same_host, timeout, pool_timeout, release_conn, chunked, body_pos, **response_kw)\u001b[0m\n\u001b[1;32m    724\u001b[0m             retries = retries.increment(\n\u001b[0;32m--> 725\u001b[0;31m                 \u001b[0mmethod\u001b[0m\u001b[0;34m,\u001b[0m \u001b[0murl\u001b[0m\u001b[0;34m,\u001b[0m \u001b[0merror\u001b[0m\u001b[0;34m=\u001b[0m\u001b[0me\u001b[0m\u001b[0;34m,\u001b[0m \u001b[0m_pool\u001b[0m\u001b[0;34m=\u001b[0m\u001b[0mself\u001b[0m\u001b[0;34m,\u001b[0m \u001b[0m_stacktrace\u001b[0m\u001b[0;34m=\u001b[0m\u001b[0msys\u001b[0m\u001b[0;34m.\u001b[0m\u001b[0mexc_info\u001b[0m\u001b[0;34m(\u001b[0m\u001b[0;34m)\u001b[0m\u001b[0;34m[\u001b[0m\u001b[0;36m2\u001b[0m\u001b[0;34m]\u001b[0m\u001b[0;34m\u001b[0m\u001b[0;34m\u001b[0m\u001b[0m\n\u001b[0m\u001b[1;32m    726\u001b[0m             )\n",
      "\u001b[0;32m/usr/local/lib/python3.7/site-packages/urllib3/util/retry.py\u001b[0m in \u001b[0;36mincrement\u001b[0;34m(self, method, url, response, error, _pool, _stacktrace)\u001b[0m\n\u001b[1;32m    402\u001b[0m             \u001b[0;32mif\u001b[0m \u001b[0mread\u001b[0m \u001b[0;32mis\u001b[0m \u001b[0;32mFalse\u001b[0m \u001b[0;32mor\u001b[0m \u001b[0;32mnot\u001b[0m \u001b[0mself\u001b[0m\u001b[0;34m.\u001b[0m\u001b[0m_is_method_retryable\u001b[0m\u001b[0;34m(\u001b[0m\u001b[0mmethod\u001b[0m\u001b[0;34m)\u001b[0m\u001b[0;34m:\u001b[0m\u001b[0;34m\u001b[0m\u001b[0;34m\u001b[0m\u001b[0m\n\u001b[0;32m--> 403\u001b[0;31m                 \u001b[0;32mraise\u001b[0m \u001b[0msix\u001b[0m\u001b[0;34m.\u001b[0m\u001b[0mreraise\u001b[0m\u001b[0;34m(\u001b[0m\u001b[0mtype\u001b[0m\u001b[0;34m(\u001b[0m\u001b[0merror\u001b[0m\u001b[0;34m)\u001b[0m\u001b[0;34m,\u001b[0m \u001b[0merror\u001b[0m\u001b[0;34m,\u001b[0m \u001b[0m_stacktrace\u001b[0m\u001b[0;34m)\u001b[0m\u001b[0;34m\u001b[0m\u001b[0;34m\u001b[0m\u001b[0m\n\u001b[0m\u001b[1;32m    404\u001b[0m             \u001b[0;32melif\u001b[0m \u001b[0mread\u001b[0m \u001b[0;32mis\u001b[0m \u001b[0;32mnot\u001b[0m \u001b[0;32mNone\u001b[0m\u001b[0;34m:\u001b[0m\u001b[0;34m\u001b[0m\u001b[0;34m\u001b[0m\u001b[0m\n",
      "\u001b[0;32m/usr/local/lib/python3.7/site-packages/urllib3/packages/six.py\u001b[0m in \u001b[0;36mreraise\u001b[0;34m(tp, value, tb)\u001b[0m\n\u001b[1;32m    734\u001b[0m                 \u001b[0;32mraise\u001b[0m \u001b[0mvalue\u001b[0m\u001b[0;34m.\u001b[0m\u001b[0mwith_traceback\u001b[0m\u001b[0;34m(\u001b[0m\u001b[0mtb\u001b[0m\u001b[0;34m)\u001b[0m\u001b[0;34m\u001b[0m\u001b[0;34m\u001b[0m\u001b[0m\n\u001b[0;32m--> 735\u001b[0;31m             \u001b[0;32mraise\u001b[0m \u001b[0mvalue\u001b[0m\u001b[0;34m\u001b[0m\u001b[0;34m\u001b[0m\u001b[0m\n\u001b[0m\u001b[1;32m    736\u001b[0m         \u001b[0;32mfinally\u001b[0m\u001b[0;34m:\u001b[0m\u001b[0;34m\u001b[0m\u001b[0;34m\u001b[0m\u001b[0m\n",
      "\u001b[0;32m/usr/local/lib/python3.7/site-packages/urllib3/connectionpool.py\u001b[0m in \u001b[0;36murlopen\u001b[0;34m(self, method, url, body, headers, retries, redirect, assert_same_host, timeout, pool_timeout, release_conn, chunked, body_pos, **response_kw)\u001b[0m\n\u001b[1;32m    676\u001b[0m                 \u001b[0mheaders\u001b[0m\u001b[0;34m=\u001b[0m\u001b[0mheaders\u001b[0m\u001b[0;34m,\u001b[0m\u001b[0;34m\u001b[0m\u001b[0;34m\u001b[0m\u001b[0m\n\u001b[0;32m--> 677\u001b[0;31m                 \u001b[0mchunked\u001b[0m\u001b[0;34m=\u001b[0m\u001b[0mchunked\u001b[0m\u001b[0;34m,\u001b[0m\u001b[0;34m\u001b[0m\u001b[0;34m\u001b[0m\u001b[0m\n\u001b[0m\u001b[1;32m    678\u001b[0m             )\n",
      "\u001b[0;32m/usr/local/lib/python3.7/site-packages/urllib3/connectionpool.py\u001b[0m in \u001b[0;36m_make_request\u001b[0;34m(self, conn, method, url, timeout, chunked, **httplib_request_kw)\u001b[0m\n\u001b[1;32m    383\u001b[0m             \u001b[0;31m# Py2 raises this as a BaseSSLError, Py3 raises it as socket timeout.\u001b[0m\u001b[0;34m\u001b[0m\u001b[0;34m\u001b[0m\u001b[0;34m\u001b[0m\u001b[0m\n\u001b[0;32m--> 384\u001b[0;31m             \u001b[0mself\u001b[0m\u001b[0;34m.\u001b[0m\u001b[0m_raise_timeout\u001b[0m\u001b[0;34m(\u001b[0m\u001b[0merr\u001b[0m\u001b[0;34m=\u001b[0m\u001b[0me\u001b[0m\u001b[0;34m,\u001b[0m \u001b[0murl\u001b[0m\u001b[0;34m=\u001b[0m\u001b[0murl\u001b[0m\u001b[0;34m,\u001b[0m \u001b[0mtimeout_value\u001b[0m\u001b[0;34m=\u001b[0m\u001b[0mconn\u001b[0m\u001b[0;34m.\u001b[0m\u001b[0mtimeout\u001b[0m\u001b[0;34m)\u001b[0m\u001b[0;34m\u001b[0m\u001b[0;34m\u001b[0m\u001b[0m\n\u001b[0m\u001b[1;32m    385\u001b[0m             \u001b[0;32mraise\u001b[0m\u001b[0;34m\u001b[0m\u001b[0;34m\u001b[0m\u001b[0m\n",
      "\u001b[0;32m/usr/local/lib/python3.7/site-packages/urllib3/connectionpool.py\u001b[0m in \u001b[0;36m_raise_timeout\u001b[0;34m(self, err, url, timeout_value)\u001b[0m\n\u001b[1;32m    335\u001b[0m             raise ReadTimeoutError(\n\u001b[0;32m--> 336\u001b[0;31m                 \u001b[0mself\u001b[0m\u001b[0;34m,\u001b[0m \u001b[0murl\u001b[0m\u001b[0;34m,\u001b[0m \u001b[0;34m\"Read timed out. (read timeout=%s)\"\u001b[0m \u001b[0;34m%\u001b[0m \u001b[0mtimeout_value\u001b[0m\u001b[0;34m\u001b[0m\u001b[0;34m\u001b[0m\u001b[0m\n\u001b[0m\u001b[1;32m    337\u001b[0m             )\n",
      "\u001b[0;31mReadTimeoutError\u001b[0m: HTTPSConnectionPool(host='api.us-south.natural-language-understanding.watson.cloud.ibm.com', port=443): Read timed out. (read timeout=60)",
      "\nDuring handling of the above exception, another exception occurred:\n",
      "\u001b[0;31mReadTimeout\u001b[0m                  Traceback (most recent call last)",
      "\u001b[0;32m<ipython-input-12-5d9557fe5d27>\u001b[0m in \u001b[0;36m<module>\u001b[0;34m\u001b[0m\n\u001b[1;32m      1\u001b[0m response = natural_language_understanding.analyze(\n\u001b[1;32m      2\u001b[0m     \u001b[0mtext\u001b[0m \u001b[0;34m=\u001b[0m \u001b[0mdf_text\u001b[0m\u001b[0;34m,\u001b[0m\u001b[0;34m\u001b[0m\u001b[0;34m\u001b[0m\u001b[0m\n\u001b[0;32m----> 3\u001b[0;31m     features=Features(keywords=KeywordsOptions(sentiment=True,emotion=True,limit=5))).get_result()\n\u001b[0m\u001b[1;32m      4\u001b[0m \u001b[0;34m\u001b[0m\u001b[0m\n\u001b[1;32m      5\u001b[0m \u001b[0mprint\u001b[0m\u001b[0;34m(\u001b[0m\u001b[0mjson\u001b[0m\u001b[0;34m.\u001b[0m\u001b[0mdumps\u001b[0m\u001b[0;34m(\u001b[0m\u001b[0mresponse\u001b[0m\u001b[0;34m,\u001b[0m \u001b[0mindent\u001b[0m\u001b[0;34m=\u001b[0m\u001b[0;36m2\u001b[0m\u001b[0;34m)\u001b[0m\u001b[0;34m)\u001b[0m\u001b[0;34m\u001b[0m\u001b[0;34m\u001b[0m\u001b[0m\n",
      "\u001b[0;32m/usr/local/lib/python3.7/site-packages/ibm_watson/natural_language_understanding_v1.py\u001b[0m in \u001b[0;36manalyze\u001b[0;34m(self, features, text, html, url, clean, xpath, fallback_to_raw, return_analyzed_text, language, limit_text_characters, **kwargs)\u001b[0m\n\u001b[1;32m    181\u001b[0m                                        data=data)\n\u001b[1;32m    182\u001b[0m \u001b[0;34m\u001b[0m\u001b[0m\n\u001b[0;32m--> 183\u001b[0;31m         \u001b[0mresponse\u001b[0m \u001b[0;34m=\u001b[0m \u001b[0mself\u001b[0m\u001b[0;34m.\u001b[0m\u001b[0msend\u001b[0m\u001b[0;34m(\u001b[0m\u001b[0mrequest\u001b[0m\u001b[0;34m)\u001b[0m\u001b[0;34m\u001b[0m\u001b[0;34m\u001b[0m\u001b[0m\n\u001b[0m\u001b[1;32m    184\u001b[0m         \u001b[0;32mreturn\u001b[0m \u001b[0mresponse\u001b[0m\u001b[0;34m\u001b[0m\u001b[0;34m\u001b[0m\u001b[0m\n\u001b[1;32m    185\u001b[0m \u001b[0;34m\u001b[0m\u001b[0m\n",
      "\u001b[0;32m/usr/local/lib/python3.7/site-packages/ibm_cloud_sdk_core/base_service.py\u001b[0m in \u001b[0;36msend\u001b[0;34m(self, request, **kwargs)\u001b[0m\n\u001b[1;32m    206\u001b[0m \u001b[0;34m\u001b[0m\u001b[0m\n\u001b[1;32m    207\u001b[0m         \u001b[0;32mtry\u001b[0m\u001b[0;34m:\u001b[0m\u001b[0;34m\u001b[0m\u001b[0;34m\u001b[0m\u001b[0m\n\u001b[0;32m--> 208\u001b[0;31m             \u001b[0mresponse\u001b[0m \u001b[0;34m=\u001b[0m \u001b[0mrequests\u001b[0m\u001b[0;34m.\u001b[0m\u001b[0mrequest\u001b[0m\u001b[0;34m(\u001b[0m\u001b[0;34m**\u001b[0m\u001b[0mrequest\u001b[0m\u001b[0;34m,\u001b[0m \u001b[0mcookies\u001b[0m\u001b[0;34m=\u001b[0m\u001b[0mself\u001b[0m\u001b[0;34m.\u001b[0m\u001b[0mjar\u001b[0m\u001b[0;34m,\u001b[0m \u001b[0;34m**\u001b[0m\u001b[0mkwargs\u001b[0m\u001b[0;34m)\u001b[0m\u001b[0;34m\u001b[0m\u001b[0;34m\u001b[0m\u001b[0m\n\u001b[0m\u001b[1;32m    209\u001b[0m \u001b[0;34m\u001b[0m\u001b[0m\n\u001b[1;32m    210\u001b[0m             \u001b[0;32mif\u001b[0m \u001b[0;36m200\u001b[0m \u001b[0;34m<=\u001b[0m \u001b[0mresponse\u001b[0m\u001b[0;34m.\u001b[0m\u001b[0mstatus_code\u001b[0m \u001b[0;34m<=\u001b[0m \u001b[0;36m299\u001b[0m\u001b[0;34m:\u001b[0m\u001b[0;34m\u001b[0m\u001b[0;34m\u001b[0m\u001b[0m\n",
      "\u001b[0;32m/usr/local/lib/python3.7/site-packages/requests/api.py\u001b[0m in \u001b[0;36mrequest\u001b[0;34m(method, url, **kwargs)\u001b[0m\n\u001b[1;32m     59\u001b[0m     \u001b[0;31m# cases, and look like a memory leak in others.\u001b[0m\u001b[0;34m\u001b[0m\u001b[0;34m\u001b[0m\u001b[0;34m\u001b[0m\u001b[0m\n\u001b[1;32m     60\u001b[0m     \u001b[0;32mwith\u001b[0m \u001b[0msessions\u001b[0m\u001b[0;34m.\u001b[0m\u001b[0mSession\u001b[0m\u001b[0;34m(\u001b[0m\u001b[0;34m)\u001b[0m \u001b[0;32mas\u001b[0m \u001b[0msession\u001b[0m\u001b[0;34m:\u001b[0m\u001b[0;34m\u001b[0m\u001b[0;34m\u001b[0m\u001b[0m\n\u001b[0;32m---> 61\u001b[0;31m         \u001b[0;32mreturn\u001b[0m \u001b[0msession\u001b[0m\u001b[0;34m.\u001b[0m\u001b[0mrequest\u001b[0m\u001b[0;34m(\u001b[0m\u001b[0mmethod\u001b[0m\u001b[0;34m=\u001b[0m\u001b[0mmethod\u001b[0m\u001b[0;34m,\u001b[0m \u001b[0murl\u001b[0m\u001b[0;34m=\u001b[0m\u001b[0murl\u001b[0m\u001b[0;34m,\u001b[0m \u001b[0;34m**\u001b[0m\u001b[0mkwargs\u001b[0m\u001b[0;34m)\u001b[0m\u001b[0;34m\u001b[0m\u001b[0;34m\u001b[0m\u001b[0m\n\u001b[0m\u001b[1;32m     62\u001b[0m \u001b[0;34m\u001b[0m\u001b[0m\n\u001b[1;32m     63\u001b[0m \u001b[0;34m\u001b[0m\u001b[0m\n",
      "\u001b[0;32m/usr/local/lib/python3.7/site-packages/requests/sessions.py\u001b[0m in \u001b[0;36mrequest\u001b[0;34m(self, method, url, params, data, headers, cookies, files, auth, timeout, allow_redirects, proxies, hooks, stream, verify, cert, json)\u001b[0m\n\u001b[1;32m    528\u001b[0m         }\n\u001b[1;32m    529\u001b[0m         \u001b[0msend_kwargs\u001b[0m\u001b[0;34m.\u001b[0m\u001b[0mupdate\u001b[0m\u001b[0;34m(\u001b[0m\u001b[0msettings\u001b[0m\u001b[0;34m)\u001b[0m\u001b[0;34m\u001b[0m\u001b[0;34m\u001b[0m\u001b[0m\n\u001b[0;32m--> 530\u001b[0;31m         \u001b[0mresp\u001b[0m \u001b[0;34m=\u001b[0m \u001b[0mself\u001b[0m\u001b[0;34m.\u001b[0m\u001b[0msend\u001b[0m\u001b[0;34m(\u001b[0m\u001b[0mprep\u001b[0m\u001b[0;34m,\u001b[0m \u001b[0;34m**\u001b[0m\u001b[0msend_kwargs\u001b[0m\u001b[0;34m)\u001b[0m\u001b[0;34m\u001b[0m\u001b[0;34m\u001b[0m\u001b[0m\n\u001b[0m\u001b[1;32m    531\u001b[0m \u001b[0;34m\u001b[0m\u001b[0m\n\u001b[1;32m    532\u001b[0m         \u001b[0;32mreturn\u001b[0m \u001b[0mresp\u001b[0m\u001b[0;34m\u001b[0m\u001b[0;34m\u001b[0m\u001b[0m\n",
      "\u001b[0;32m/usr/local/lib/python3.7/site-packages/requests/sessions.py\u001b[0m in \u001b[0;36msend\u001b[0;34m(self, request, **kwargs)\u001b[0m\n\u001b[1;32m    641\u001b[0m \u001b[0;34m\u001b[0m\u001b[0m\n\u001b[1;32m    642\u001b[0m         \u001b[0;31m# Send the request\u001b[0m\u001b[0;34m\u001b[0m\u001b[0;34m\u001b[0m\u001b[0;34m\u001b[0m\u001b[0m\n\u001b[0;32m--> 643\u001b[0;31m         \u001b[0mr\u001b[0m \u001b[0;34m=\u001b[0m \u001b[0madapter\u001b[0m\u001b[0;34m.\u001b[0m\u001b[0msend\u001b[0m\u001b[0;34m(\u001b[0m\u001b[0mrequest\u001b[0m\u001b[0;34m,\u001b[0m \u001b[0;34m**\u001b[0m\u001b[0mkwargs\u001b[0m\u001b[0;34m)\u001b[0m\u001b[0;34m\u001b[0m\u001b[0;34m\u001b[0m\u001b[0m\n\u001b[0m\u001b[1;32m    644\u001b[0m \u001b[0;34m\u001b[0m\u001b[0m\n\u001b[1;32m    645\u001b[0m         \u001b[0;31m# Total elapsed time of the request (approximately)\u001b[0m\u001b[0;34m\u001b[0m\u001b[0;34m\u001b[0m\u001b[0;34m\u001b[0m\u001b[0m\n",
      "\u001b[0;32m/usr/local/lib/python3.7/site-packages/requests/adapters.py\u001b[0m in \u001b[0;36msend\u001b[0;34m(self, request, stream, timeout, verify, cert, proxies)\u001b[0m\n\u001b[1;32m    527\u001b[0m                 \u001b[0;32mraise\u001b[0m \u001b[0mSSLError\u001b[0m\u001b[0;34m(\u001b[0m\u001b[0me\u001b[0m\u001b[0;34m,\u001b[0m \u001b[0mrequest\u001b[0m\u001b[0;34m=\u001b[0m\u001b[0mrequest\u001b[0m\u001b[0;34m)\u001b[0m\u001b[0;34m\u001b[0m\u001b[0;34m\u001b[0m\u001b[0m\n\u001b[1;32m    528\u001b[0m             \u001b[0;32melif\u001b[0m \u001b[0misinstance\u001b[0m\u001b[0;34m(\u001b[0m\u001b[0me\u001b[0m\u001b[0;34m,\u001b[0m \u001b[0mReadTimeoutError\u001b[0m\u001b[0;34m)\u001b[0m\u001b[0;34m:\u001b[0m\u001b[0;34m\u001b[0m\u001b[0;34m\u001b[0m\u001b[0m\n\u001b[0;32m--> 529\u001b[0;31m                 \u001b[0;32mraise\u001b[0m \u001b[0mReadTimeout\u001b[0m\u001b[0;34m(\u001b[0m\u001b[0me\u001b[0m\u001b[0;34m,\u001b[0m \u001b[0mrequest\u001b[0m\u001b[0;34m=\u001b[0m\u001b[0mrequest\u001b[0m\u001b[0;34m)\u001b[0m\u001b[0;34m\u001b[0m\u001b[0;34m\u001b[0m\u001b[0m\n\u001b[0m\u001b[1;32m    530\u001b[0m             \u001b[0;32melse\u001b[0m\u001b[0;34m:\u001b[0m\u001b[0;34m\u001b[0m\u001b[0;34m\u001b[0m\u001b[0m\n\u001b[1;32m    531\u001b[0m                 \u001b[0;32mraise\u001b[0m\u001b[0;34m\u001b[0m\u001b[0;34m\u001b[0m\u001b[0m\n",
      "\u001b[0;31mReadTimeout\u001b[0m: HTTPSConnectionPool(host='api.us-south.natural-language-understanding.watson.cloud.ibm.com', port=443): Read timed out. (read timeout=60)"
     ]
    }
   ],
   "source": [
    "response = natural_language_understanding.analyze(\n",
    "    text = df_text,\n",
    "    features=Features(keywords=KeywordsOptions(sentiment=True,emotion=True,limit=5))).get_result()\n",
    "\n",
    "print(json.dumps(response, indent=2))"
   ]
  },
  {
   "cell_type": "markdown",
   "metadata": {},
   "source": [
    "Hmmmmm...It looks like we've picked up the 'XX/XX' field for dates that are obscured. Since this is occuring frequently, the NLU scoring is tagging it with a high relevance score. Let's drop those 'XX' characters to get a better response from NLU."
   ]
  },
  {
   "cell_type": "code",
   "execution_count": null,
   "metadata": {},
   "outputs": [],
   "source": [
    "df2 =df2.replace(regex=['X+'],value='')"
   ]
  },
  {
   "cell_type": "code",
   "execution_count": null,
   "metadata": {},
   "outputs": [],
   "source": [
    "df_text = df2.to_string()\n",
    "df_text"
   ]
  },
  {
   "cell_type": "markdown",
   "metadata": {},
   "source": [
    "OK, now that those 'XX' characters are gone, let's score again with NLU."
   ]
  },
  {
   "cell_type": "code",
   "execution_count": null,
   "metadata": {},
   "outputs": [],
   "source": [
    "response = natural_language_understanding.analyze(\n",
    "    text = df_text,\n",
    "    features=Features(keywords=KeywordsOptions(sentiment=True,emotion=True,limit=5))).get_result()\n",
    "\n",
    "print(json.dumps(response, indent=2))"
   ]
  },
  {
   "cell_type": "markdown",
   "metadata": {},
   "source": [
    "That looks like information we can use. We notice that there is a 50,000 character limit. We'll work with that in a bit. For now, let's see if we can analyze some of this data."
   ]
  },
  {
   "cell_type": "markdown",
   "metadata": {},
   "source": [
    "## 5.0 Analyze response from NLU <a name=analyze></a>"
   ]
  },
  {
   "cell_type": "markdown",
   "metadata": {},
   "source": [
    "We'll create a dataframe from this API response. First, we'll look at the part of the response json that is associated with the key 'keywords`."
   ]
  },
  {
   "cell_type": "code",
   "execution_count": null,
   "metadata": {},
   "outputs": [],
   "source": [
    "respj = json.dumps(response['keywords'])\n",
    "respj"
   ]
  },
  {
   "cell_type": "markdown",
   "metadata": {},
   "source": [
    "OK. That looks good. Now, let's create a Pandas dataframe with that json using the method [read_json()](https://pandas.pydata.org/pandas-docs/stable/reference/api/pandas.read_json.html)."
   ]
  },
  {
   "cell_type": "code",
   "execution_count": null,
   "metadata": {},
   "outputs": [],
   "source": [
    "json_df = pd.read_json(respj)\n",
    "json_df.head()"
   ]
  },
  {
   "cell_type": "markdown",
   "metadata": {},
   "source": [
    "That kinda worked. But the `Sentiment` column is composed of json that has multiple values in a [Python dict](https://docs.python.org/3/tutorial/datastructures.html#dictionaries) form, as does the `emotion` column.\n",
    "We can use [json_normalize()](https://pandas.pydata.org/pandas-docs/stable/reference/api/pandas.json_normalize.html) to create a dataframe that splits up `sentiment` and `emotion`. We'll drop a few columns and focus only on the `sentiment.score` and the `emotion.*` features."
   ]
  },
  {
   "cell_type": "code",
   "execution_count": null,
   "metadata": {},
   "outputs": [],
   "source": [
    "norm_df = pd.json_normalize(response['keywords'])\n",
    "norm_df.drop('relevance',inplace = True, axis = 1)\n",
    "norm_df.drop('count',inplace = True, axis = 1)\n",
    "norm_df.drop('sentiment.label',inplace = True, axis = 1)\n",
    "norm_df.head()"
   ]
  },
  {
   "cell_type": "markdown",
   "metadata": {},
   "source": [
    "This exploration of the data gives us some tools to work with. We'll continue to analyze the text in the following sections."
   ]
  },
  {
   "cell_type": "markdown",
   "metadata": {},
   "source": [
    "## 6.0 Get sentiment by row <a name=\"sentiment-row\"></a>\n",
    "Now, let's derive some sentiment and emotion information on a per-row basis, to provide more granualarity.\n",
    "The number of API calls that you can make to Watson NLU is [rate limited and dependent on your service plan](https://cloud.ibm.com/catalog/services/natural-language-understanding), so in order to limit the number of API calls to the NLU endpoint we'll start with just 50 rows by setting `num_rows` to 50."
   ]
  },
  {
   "cell_type": "code",
   "execution_count": null,
   "metadata": {},
   "outputs": [],
   "source": [
    "num_rows = 50"
   ]
  },
  {
   "cell_type": "code",
   "execution_count": null,
   "metadata": {},
   "outputs": [],
   "source": [
    "df_rows = df.head(num_rows)\n",
    "df_rows = df_rows.dropna(subset=['Consumer complaint narrative'],how = 'any')\n",
    "df_rows =df_rows.replace(regex=['X+'],value='')\n",
    "df_rows.head()"
   ]
  },
  {
   "cell_type": "markdown",
   "metadata": {},
   "source": [
    "We notice that when we dropped the rows with a `NaN` value for `Customer complaint narrative`, the indexes are no longer sequential. Let's use [reset_index](https://pandas.pydata.org/pandas-docs/stable/reference/api/pandas.DataFrame.reset_index.html) to fix this."
   ]
  },
  {
   "cell_type": "code",
   "execution_count": null,
   "metadata": {},
   "outputs": [],
   "source": [
    "df_rows.reset_index(drop=True, inplace=True)"
   ]
  },
  {
   "cell_type": "markdown",
   "metadata": {},
   "source": [
    "There are many ways to iterate through the rows for a Pandas dataframe. We'll use [iterrows()](https://pandas.pydata.org/pandas-docs/stable/reference/api/pandas.DataFrame.iterrows.html)"
   ]
  },
  {
   "cell_type": "markdown",
   "metadata": {},
   "source": [
    "First, we have a date for these entries. Let's put them into [Pandas datetime](https://pandas.pydata.org/pandas-docs/stable/user_guide/timeseries.html) format. We can use this later to do time series graphs."
   ]
  },
  {
   "cell_type": "code",
   "execution_count": null,
   "metadata": {},
   "outputs": [],
   "source": [
    "for index, row in df_rows.iterrows():\n",
    "    df_rows.loc[index,'Date received'] = datetime.strptime(row['Date received'], \"%m/%d/%y\")"
   ]
  },
  {
   "cell_type": "markdown",
   "metadata": {},
   "source": [
    "Now, let's look for something that we can use with Watson NLU to derive an analysis of the sentiment of the customer feedback."
   ]
  },
  {
   "cell_type": "code",
   "execution_count": null,
   "metadata": {},
   "outputs": [],
   "source": [
    "df_rows.head()"
   ]
  },
  {
   "cell_type": "code",
   "execution_count": null,
   "metadata": {},
   "outputs": [],
   "source": [
    "print (df_rows['Consumer complaint narrative'][0])"
   ]
  },
  {
   "cell_type": "markdown",
   "metadata": {},
   "source": [
    "That looks like what we want. Now, we'll create a list to hold the `responses`, call Watson NLU with the data and then populate the responses list. We'll do the same with a list called `normalize` that we can use along with [json_normalize()](https://pandas.pydata.org/pandas-docs/stable/reference/api/pandas.json_normalize.html)."
   ]
  },
  {
   "cell_type": "code",
   "execution_count": null,
   "metadata": {},
   "outputs": [],
   "source": [
    "responses = []\n",
    "normalize = []\n",
    "for index, row in df_rows.iterrows():\n",
    "    \n",
    "    response = natural_language_understanding.analyze(\n",
    "    text = row['Consumer complaint narrative'],\n",
    "    features=Features(keywords=KeywordsOptions(sentiment=True,emotion=True,limit=1))).get_result()\n",
    "    normalize.append(pd.json_normalize(response['keywords']))\n",
    "    responses.append(response)\n",
    "    "
   ]
  },
  {
   "cell_type": "code",
   "execution_count": null,
   "metadata": {},
   "outputs": [],
   "source": [
    "normalize"
   ]
  },
  {
   "cell_type": "code",
   "execution_count": null,
   "metadata": {},
   "outputs": [],
   "source": [
    "responses"
   ]
  },
  {
   "cell_type": "markdown",
   "metadata": {},
   "source": [
    "Add the `responses` list and the `normalize` to the df_rows dataframe. We can continue to use these new data features, but more commonly we'll derive new dataframes for our experiments and change those new dataframes instead."
   ]
  },
  {
   "cell_type": "code",
   "execution_count": null,
   "metadata": {},
   "outputs": [],
   "source": [
    "df_rows['response'] = responses\n",
    "df_rows.head()"
   ]
  },
  {
   "cell_type": "code",
   "execution_count": null,
   "metadata": {},
   "outputs": [],
   "source": [
    "df_rows['normalized'] = normalize\n",
    "df_rows.head()"
   ]
  },
  {
   "cell_type": "markdown",
   "metadata": {},
   "source": [
    "Let's create a new dataframe where we can pull out the column for the `emotion` `anger`, then sort by the highest rating of `anger`."
   ]
  },
  {
   "cell_type": "code",
   "execution_count": null,
   "metadata": {},
   "outputs": [],
   "source": [
    "test_df = df_rows"
   ]
  },
  {
   "cell_type": "code",
   "execution_count": null,
   "metadata": {},
   "outputs": [],
   "source": [
    "for index, row in test_df.iterrows():\n",
    "    test_df.loc[index,\"anger\"] = test_df.iloc[index]['response']['keywords'][0]['emotion']['anger']\n",
    "    test_df.loc[index,\"sentiment.score\"] = test_df.iloc[index]['response']['keywords'][0]['sentiment']['score']"
   ]
  },
  {
   "cell_type": "code",
   "execution_count": null,
   "metadata": {},
   "outputs": [],
   "source": [
    "test_df.head()"
   ]
  },
  {
   "cell_type": "markdown",
   "metadata": {},
   "source": [
    "First, we'll look for entries that rank high in `anger`"
   ]
  },
  {
   "cell_type": "code",
   "execution_count": null,
   "metadata": {},
   "outputs": [],
   "source": [
    "sorted_df = test_df.sort_values(by='anger', ascending=False)\n",
    "sorted_df.head()"
   ]
  },
  {
   "cell_type": "markdown",
   "metadata": {},
   "source": [
    "Let's look at the `Consumer complaint narrative` that causes the most anger (the one at the top of the sorted list)"
   ]
  },
  {
   "cell_type": "code",
   "execution_count": null,
   "metadata": {},
   "outputs": [],
   "source": [
    "sorted_df.iloc[0]['Consumer complaint narrative']"
   ]
  },
  {
   "cell_type": "markdown",
   "metadata": {},
   "source": [
    "We could to the same for other entries that rank high in anger."
   ]
  },
  {
   "cell_type": "code",
   "execution_count": null,
   "metadata": {},
   "outputs": [],
   "source": [
    "sorted_df.iloc[1]['Consumer complaint narrative']"
   ]
  },
  {
   "cell_type": "markdown",
   "metadata": {},
   "source": [
    "Now, let's look at those with the highest negative sentiment. Note that for this, we'll sort by \"ascending\", since the more negative numbers represent a higher degree of negative sentiment."
   ]
  },
  {
   "cell_type": "code",
   "execution_count": null,
   "metadata": {},
   "outputs": [],
   "source": [
    "sorted_df = test_df.sort_values(by='sentiment.score', ascending=True)\n",
    "sorted_df.head()"
   ]
  },
  {
   "cell_type": "code",
   "execution_count": null,
   "metadata": {},
   "outputs": [],
   "source": [
    "sorted_df.iloc[0]['Consumer complaint narrative']"
   ]
  },
  {
   "cell_type": "markdown",
   "metadata": {},
   "source": [
    "Well, it's not a surprise that the entry with the largest negative `sentiment.score` also has the highest rating for `anger`"
   ]
  },
  {
   "cell_type": "markdown",
   "metadata": {},
   "source": [
    "## 7.0 Graph with matplotlib <a name=\"graph\"></a>"
   ]
  },
  {
   "cell_type": "markdown",
   "metadata": {},
   "source": [
    "Let's create some graphs using [matplotlib](https://matplotlib.org). You may wish to explore more details about the Jupyter notebook [magic functions](https://ipython.readthedocs.io/en/stable/interactive/tutorial.html#magics-explained) that you see used with the command `%matplotlib inline`."
   ]
  },
  {
   "cell_type": "code",
   "execution_count": null,
   "metadata": {},
   "outputs": [],
   "source": [
    "import matplotlib.pyplot as plt\n",
    "\n",
    "%matplotlib inline"
   ]
  },
  {
   "cell_type": "markdown",
   "metadata": {},
   "source": [
    "### 7.1 Time series graphs"
   ]
  },
  {
   "cell_type": "markdown",
   "metadata": {},
   "source": [
    "We can see if there is anything interesting when we plot data against time."
   ]
  },
  {
   "cell_type": "code",
   "execution_count": null,
   "metadata": {},
   "outputs": [],
   "source": [
    "sorted_df.plot(kind='line',x='Date received',y='anger',color='red')"
   ]
  },
  {
   "cell_type": "code",
   "execution_count": null,
   "metadata": {
    "scrolled": true
   },
   "outputs": [],
   "source": [
    "sorted_df.plot(kind='line',x='Date received',y='sentiment.score',color='blue')"
   ]
  },
  {
   "cell_type": "markdown",
   "metadata": {},
   "source": [
    "Now we can plot both `sentiment.score` and `anger` against time to look for correlations."
   ]
  },
  {
   "cell_type": "code",
   "execution_count": null,
   "metadata": {},
   "outputs": [],
   "source": [
    "sorted_df.plot(kind='line',x='Date received',y=['sentiment.score','anger'])"
   ]
  },
  {
   "cell_type": "markdown",
   "metadata": {},
   "source": [
    "### 7.2 Bar graphs"
   ]
  },
  {
   "cell_type": "markdown",
   "metadata": {},
   "source": [
    "We can sum up the number of times a given `Product` or `Sub-product` appears using the [Python collections library Counter](https://docs.python.org/2/library/collections.html#collections.Counter)"
   ]
  },
  {
   "cell_type": "code",
   "execution_count": null,
   "metadata": {},
   "outputs": [],
   "source": [
    "from collections import Counter"
   ]
  },
  {
   "cell_type": "markdown",
   "metadata": {},
   "source": [
    "Then we'll create a bar graph to see which `Product` are refered to in the most customer complaints."
   ]
  },
  {
   "cell_type": "code",
   "execution_count": null,
   "metadata": {},
   "outputs": [],
   "source": [
    "bar_hist = Counter(sorted_df['Product'].replace('\\n', ''))\n",
    "\n",
    "counts = bar_hist.values()\n",
    "letters = bar_hist.keys()\n",
    "\n",
    "# graph data\n",
    "bar_x_locations = np.arange(len(counts))\n",
    "plt.bar(bar_x_locations, counts, align = 'center')\n",
    "plt.xticks(bar_x_locations, letters, rotation=90)\n",
    "plt.grid()\n",
    "plt.show()"
   ]
  },
  {
   "cell_type": "markdown",
   "metadata": {},
   "source": [
    "We can do the same for `Sub-product`."
   ]
  },
  {
   "cell_type": "code",
   "execution_count": null,
   "metadata": {
    "scrolled": true
   },
   "outputs": [],
   "source": [
    "bar_hist = Counter(sorted_df['Sub-product'].replace('\\n', ''))\n",
    "\n",
    "counts = bar_hist.values()\n",
    "letters = bar_hist.keys()\n",
    "\n",
    "# graph data\n",
    "bar_x_locations = np.arange(len(counts))\n",
    "plt.bar(bar_x_locations, counts, align = 'center')\n",
    "plt.xticks(bar_x_locations, letters, rotation=90)\n",
    "plt.grid()\n",
    "plt.show()"
   ]
  },
  {
   "cell_type": "markdown",
   "metadata": {},
   "source": [
    "### 7.3 Scatterplot"
   ]
  },
  {
   "cell_type": "markdown",
   "metadata": {},
   "source": [
    "Now we'll use some matplotlib and numpy code to generate a 3D scatter plot"
   ]
  },
  {
   "cell_type": "code",
   "execution_count": null,
   "metadata": {
    "scrolled": true
   },
   "outputs": [],
   "source": [
    "import mpl_toolkits.mplot3d.axes3d as axes3d\n",
    "\n",
    "\n",
    "Xuniques, X = np.unique(sorted_df['Sub-product'], return_inverse=True)\n",
    "Yuniques, Y = np.unique(sorted_df['Product'], return_inverse=True)\n",
    "Z= sorted_df['anger']\n",
    "fig = plt.figure(figsize= [15,8])\n",
    "ax = fig.add_subplot(1, 1, 1, projection='3d',autoscale_on=True)\n",
    "ax.scatter(X, Y, Z, s=10, c='b')\n",
    "ax.set(xticks=range(len(Xuniques)), xticklabels=Xuniques,\n",
    "       yticks=range(len(Yuniques)), yticklabels=Yuniques)\n",
    "plt.xticks(rotation=90)\n",
    "plt.show()\n"
   ]
  },
  {
   "cell_type": "code",
   "execution_count": null,
   "metadata": {},
   "outputs": [],
   "source": []
  },
  {
   "cell_type": "code",
   "execution_count": null,
   "metadata": {},
   "outputs": [],
   "source": []
  }
 ],
 "metadata": {
  "kernelspec": {
   "display_name": "Python 3",
   "language": "python",
   "name": "python3"
  },
  "language_info": {
   "codemirror_mode": {
    "name": "ipython",
    "version": 3
   },
   "file_extension": ".py",
   "mimetype": "text/x-python",
   "name": "python",
   "nbconvert_exporter": "python",
   "pygments_lexer": "ipython3",
   "version": "3.7.4"
  }
 },
 "nbformat": 4,
 "nbformat_minor": 1
}
